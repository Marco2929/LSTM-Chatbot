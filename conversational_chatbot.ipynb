{
 "cells": [
  {
   "cell_type": "markdown",
   "metadata": {
    "id": "DEP0jDcn0scz"
   },
   "source": [
    "# Conversational Chatbot Deep Learning\n",
    "Semester: SoSe 2024\n",
    "\n",
    "Name: Marco Menner\n",
    "\n",
    "Matrikelnummer: 208778\n",
    "\n",
    "## Requirements importieren\n",
    "Im ersten Schritt werden alle Requirements in das Projekt geladen. Diese sollten bereits gemäß der Anleitung in der README-Datei im Virtual Environment installiert worden sein."
   ]
  },
  {
   "cell_type": "code",
   "execution_count": 166,
   "metadata": {
    "colab": {
     "base_uri": "https://localhost:8080/"
    },
    "id": "x6LOnJny004j",
    "outputId": "19121922-00f9-46ed-e098-d7f9549135ed"
   },
   "outputs": [],
   "source": [
    "from __future__ import unicode_literals, print_function, division\n",
    "from typing import Tuple, List\n",
    "import pickle\n",
    "import json\n",
    "import random\n",
    "import os\n",
    "import re\n",
    "import time\n",
    "import math\n",
    "import re\n",
    "from datetime import datetime\n",
    "from typing import List\n",
    "import numpy as np\n",
    "from matplotlib import pyplot as plt\n",
    "from pathlib import Path\n",
    "from datasets import load_dataset\n",
    "import unicodedata\n",
    "import torch\n",
    "import torch.nn as nn\n",
    "from torch import optim\n",
    "import torch.nn.functional as F\n",
    "from evaluate import load\n",
    "from sklearn.model_selection import train_test_split\n",
    "from torch.utils.data import DataLoader, RandomSampler, SequentialSampler, TensorDataset\n",
    "from torch.nn.utils.rnn import pad_sequence\n",
    "from torch.utils.tensorboard import SummaryWriter\n",
    "import ipywidgets as widgets\n",
    "from IPython.display import display\n",
    "\n",
    "current_path = os.getcwd()"
   ]
  },
  {
   "cell_type": "markdown",
   "metadata": {
    "id": "W59nuX4I2BYV"
   },
   "source": [
    "Im nächsten Schritt wird überprüft ob GPU oder TPU verfügbar ist. Der untere Button kann zum Wechsel zwischen GPU (Cuda) oder CPU verwendet werden. Empfohlen wird jedoch Cuda."
   ]
  },
  {
   "cell_type": "code",
   "execution_count": 167,
   "metadata": {
    "colab": {
     "base_uri": "https://localhost:8080/",
     "height": 95,
     "referenced_widgets": [
      "fee4bd37195f456a8b4d4c2564cdbce8",
      "e7dfa3a7915e44668820ac99e96f912e",
      "9824e507aa064dc4b5e332d26c8a51e0",
      "d55ee1ef1eb54d1c9e907e58ba74a015",
      "a02614711214473db473f4f7fe93ed54",
      "78b19befa16b4ca0a2d0273d2ea85b30",
      "e171bf8f64d44729919751a30e166b7b",
      "86b1de83b9cb4f8f8f725406f3f113eb",
      "dd3a49e9d0704943837f2866a69b347e"
     ]
    },
    "id": "6lORDbdD2GbY",
    "jupyter": {
     "source_hidden": true
    },
    "outputId": "4d9d467a-4a71-4cfd-9131-3ab03c1f9f70"
   },
   "outputs": [
    {
     "data": {
      "application/vnd.jupyter.widget-view+json": {
       "model_id": "4aa2e6b2fe94441ab510c33758756f31",
       "version_major": 2,
       "version_minor": 0
      },
      "text/plain": [
       "ToggleButton(value=False, description='Use CPU', layout=Layout(height='40px', width='150px'), style=ToggleButt…"
      ]
     },
     "metadata": {},
     "output_type": "display_data"
    },
    {
     "data": {
      "application/vnd.jupyter.widget-view+json": {
       "model_id": "c8c9636b9bd441fe8b5350a13a4ce01a",
       "version_major": 2,
       "version_minor": 0
      },
      "text/plain": [
       "Label(value='Selected Device: cuda')"
      ]
     },
     "metadata": {},
     "output_type": "display_data"
    },
    {
     "data": {
      "application/vnd.jupyter.widget-view+json": {
       "model_id": "ccbf04b3b30a47eb88ac0e18c1a8a6e0",
       "version_major": 2,
       "version_minor": 0
      },
      "text/plain": [
       "HTML(value='\\n    <style>\\n        .widget-toggle-button {\\n            background-color: blue !important;\\n  …"
      ]
     },
     "metadata": {},
     "output_type": "display_data"
    }
   ],
   "source": [
    "# Initialize the device variable\n",
    "device = torch.device(\"cuda\" if torch.cuda.is_available() else \"cpu\")\n",
    "\n",
    "# Function to update device selection\n",
    "def update_device(change):\n",
    "    global device\n",
    "    if change['new']:\n",
    "        device = torch.device(\"cpu\")\n",
    "        device_button.description = \"Use CUDA\"\n",
    "    else:\n",
    "        device = torch.device(\"cuda\" if torch.cuda.is_available() else \"cpu\")\n",
    "        device_button.description = \"Use CPU\"\n",
    "    device_label.value = f\"Selected Device: {device}\"\n",
    "\n",
    "# Create the button widget with custom styling\n",
    "device_button = widgets.ToggleButton(\n",
    "    value=(device.type == 'cpu'),\n",
    "    description='Use CPU' if device.type == 'cuda' else 'Use CUDA',\n",
    "    disabled=not torch.cuda.is_available(),  # Disable if CUDA is not available\n",
    "    button_style='',  # Will apply custom style instead\n",
    "    tooltip='Toggle between CPU and CUDA',\n",
    "    layout=widgets.Layout(width='150px', height='40px')  # Set size of the button\n",
    ")\n",
    "\n",
    "# Apply custom CSS\n",
    "device_button.style.button_color = 'blue'\n",
    "device_button.style.font_weight = 'bold'\n",
    "device_button.style.font_size = '16px'\n",
    "device_button.style.font_color = 'white'\n",
    "\n",
    "# Create a label to display the selected device\n",
    "device_label = widgets.Label(value=f\"Selected Device: {device}\")\n",
    "\n",
    "# Attach the update function to the button\n",
    "device_button.observe(update_device, names='value')\n",
    "\n",
    "# Display the button and label\n",
    "display(device_button, device_label)\n",
    "\n",
    "# Apply additional custom CSS\n",
    "display(widgets.HTML(\"\"\"\n",
    "    <style>\n",
    "        .widget-toggle-button {\n",
    "            background-color: blue !important;\n",
    "            color: white !important;\n",
    "            font-weight: bold !important;\n",
    "            font-size: 16px !important;\n",
    "        }\n",
    "    </style>\n",
    "\"\"\"))\n"
   ]
  },
  {
   "attachments": {},
   "cell_type": "markdown",
   "metadata": {
    "id": "OMqh_aA32rh5"
   },
   "source": [
    "## Daten Vorbereitung"
   ]
  },
  {
   "cell_type": "markdown",
   "metadata": {
    "id": "DqjVZTsnK6Ln"
   },
   "source": [
    "Der erste Schritt besteht darin, die Tokens festzulegen, die dem Modell den Beginn und das Ende eines Satzes anzeigen. Zusätzlich werden kürzere Sätze auf die gleiche Länge gepaddet, indem Nullen hinzugefügt werden. Auf diesen Aspekt wird später noch näher eingegangen."
   ]
  },
  {
   "cell_type": "code",
   "execution_count": 168,
   "metadata": {
    "id": "UndskqNe2zhe"
   },
   "outputs": [],
   "source": [
    "PAD_token = 0  # Padding\n",
    "SOS_token = 1  # Start-of-sentence\n",
    "EOS_token = 2  # End-of-sentence"
   ]
  },
  {
   "cell_type": "markdown",
   "metadata": {
    "id": "TeG3EACdOboC"
   },
   "source": [
    "Als nächsten Schritt wird die Vocab Klasse initialisiert. Diese Klasse beinhaltet folgende Funktionen:\n",
    "\n",
    "* **Initialisierung:** Beim Erstellen eines Vocab Objekts werden drei spezielle\n",
    "Tokens (PAD, SOS, EOS) initialisiert, die für Padding, Start und Ende eines Satzes stehen. Diese Tokens erhalten die ersten drei Indizes und die Anzahl der Wörter (num_of_words) wird auf 3 gesetzt. Kein anderes Wort wird folglich diese Tokens erhalten\n",
    "\n",
    "* **add_sentence:** Diese Funktion nimmt einen Satz als String und fügt jedes Wort dieses Satzes zum Vokabular hinzu. Hierbei wird die Funktion *add_word* aufgerufen.\n",
    "\n",
    "* **add_word:** Fügt ein einzelnes Wort zum Vokabular hinzu. Wenn das Wort noch nicht existiert, wird es mit einem neuen Index versehen und seine Häufigkeit auf 1 gesetzt. Existiert es bereits, wird nur die Häufigkeit erhöht.\n",
    "\n",
    "* **trim:** Diese Funktion entfernt Wörter aus dem Vokabular, die weniger als *min_count* Mal vorkommen. Nach dem Trimmen bleiben nur Wörter im Vokabular, deren Häufigkeit größer oder gleich *min_count* ist. Die Wörterbücher werden danach neu initialisiert, um nur die häufigeren Wörter zu behalten. [source](https://www.kdnuggets.com/2019/11/create-vocabulary-nlp-tasks-python.html)"
   ]
  },
  {
   "cell_type": "code",
   "execution_count": 169,
   "metadata": {
    "id": "_YHZNyCkOyVf"
   },
   "outputs": [],
   "source": [
    "class Vocab:\n",
    "    def __init__(self):\n",
    "        self.trimmed = False\n",
    "        self.word_to_index = {}\n",
    "        self.word_to_count = {}\n",
    "        self.index_to_word = {PAD_token: \"PAD\", SOS_token: \"SOS\", EOS_token: \"EOS\"}\n",
    "        self.num_of_words = 3  # Count SOS, EOS, PAD\n",
    "\n",
    "    def add_sentence(self, sentence: str):\n",
    "        for word in sentence.split(' '):\n",
    "            self._add_word(word)\n",
    "\n",
    "    def _add_word(self, word: str):\n",
    "        if word not in self.word_to_index:\n",
    "            self.word_to_index[word] = self.num_of_words\n",
    "            self.word_to_count[word] = 1\n",
    "            self.index_to_word[self.num_of_words] = word\n",
    "            self.num_of_words += 1\n",
    "        else:\n",
    "            self.word_to_count[word] += 1\n",
    "\n",
    "    def trim(self, min_count: int):\n",
    "        if self.trimmed:\n",
    "            return\n",
    "        self.trimmed = True\n",
    "\n",
    "        keep_words = [word for word, count in self.word_to_count.items() if count >= min_count]\n",
    "\n",
    "        # Reinitialize dictionaries\n",
    "        self.word_to_index = {}\n",
    "        self.word_to_count = {}\n",
    "        self.index_to_word = {PAD_token: \"PAD\", SOS_token: \"SOS\", EOS_token: \"EOS\"}\n",
    "        self.num_of_words = 3  # Count default tokens\n",
    "\n",
    "        for word in keep_words:\n",
    "            self._add_word(word)"
   ]
  },
  {
   "cell_type": "markdown",
   "metadata": {
    "id": "XtEKe6fVLkUE"
   },
   "source": [
    "Als nächster Schritt wird nun die *prepare_dataset* Funktion definiert. Dabei handelt es sich um die Hauptfunktion zur Vorbereitung des Datensatzes, mit dieser werden die Datensätze geladen und vorverarbeitet. Nach dem Ausführen der Funktion enthält die Rückgabe zum einen die gefüllte Vocab Klasse aber auch die vorbereiteten Train und Test Satzpaare die für das Training verwendet werden."
   ]
  },
  {
   "cell_type": "code",
   "execution_count": 170,
   "metadata": {
    "id": "tatBSdRnLkrA"
   },
   "outputs": [],
   "source": [
    "def prepare_dataset(max_length: int) -> Tuple[Vocab, List[List[str]], List[List[str]]]:\n",
    "    print(\"Load conversations...\")\n",
    "    movie_conversations = load_pkl_data(os.path.join(current_path,\"data/movie_conversations.pkl\"))\n",
    "    daily_conversations = load_huggingface_dataset()\n",
    "\n",
    "    all_conversations = movie_conversations + daily_conversations\n",
    "    print(f\"Number of raw dialogs: {len(all_conversations)}\")\n",
    "    all_pairs = prepare_data(all_conversations)\n",
    "    print(f\"Number of prepared sentence pairs: {len(all_pairs)}\")\n",
    "    vocab = Vocab()\n",
    "\n",
    "    all_pairs, vocab = filter_and_trim_data(vocab, all_pairs, max_length)\n",
    "    print(f\"Number of sentence pairs after filtering and trimming: {len(all_pairs)}\")\n",
    "    train_pairs, test_pairs = train_test_split(all_pairs, shuffle=True, test_size=0.3, random_state=42)\n",
    "\n",
    "    return vocab, train_pairs, test_pairs"
   ]
  },
  {
   "cell_type": "markdown",
   "metadata": {
    "id": "aaiCSCUuMLR2"
   },
   "source": [
    "Das Ziel dieses Chatbots ist es, möglichst natürlich und menschenähnlich auf eine Vielzahl von allgemeinen Benutzerfragen zu antworten. Um dieses Ziel zu erreichen, wurden verschiedene Datensätze als Grundlage verwendet. Zum einen wurde ein Filmdatensatz genutzt, der von der Plattform [Convokit](https://convokit.cornell.edu/documentation/movie.html) heruntergeladen wurde. Dieser Filmdatensatz wurde zur besseren Handhabung in das Pkl-Dateiformat umgewandelt und anschließend importiert. Zum anderen kam der [Daily Dialog Datensatz](https://huggingface.co/datasets/li2017dailydialog/daily_dialog?row=5) von Huggingface zum Einsatz, der einfach in eine Liste umgewandelt werden kann, um die Implementierung zu erleichtern. Beide Datensätze tragen dazu bei, die Antworten des Chatbots möglichst natürlich und konversationsnah zu gestalten."
   ]
  },
  {
   "cell_type": "code",
   "execution_count": 171,
   "metadata": {
    "id": "RO0WF59FMLeW"
   },
   "outputs": [],
   "source": [
    "def load_pkl_data(pkl_file_path: str) -> List[List[str]]:\n",
    "    with open(pkl_file_path, 'rb') as pkl_file:\n",
    "        return pickle.load(pkl_file)\n",
    "\n",
    "\n",
    "def load_huggingface_dataset() -> List[List[str]]:\n",
    "    dataset = load_dataset(\"daily_dialog\", \"default\", trust_remote_code=True)\n",
    "    hf_dataset_train = dataset.data['train']['dialog'].to_pylist()\n",
    "    hf_dataset_test = dataset.data['test']['dialog'].to_pylist()\n",
    "    hf_dataset_validation = dataset.data['validation']['dialog'].to_pylist()\n",
    "\n",
    "    return hf_dataset_train + hf_dataset_test + hf_dataset_validation"
   ]
  },
  {
   "cell_type": "markdown",
   "metadata": {
    "id": "VqFqRlkMMr6w"
   },
   "source": [
    "Folgendermaßen sehen dabei nun die Daten der Datensätze aus:"
   ]
  },
  {
   "cell_type": "code",
   "execution_count": 172,
   "metadata": {
    "colab": {
     "base_uri": "https://localhost:8080/"
    },
    "id": "trr5SI77dxyC",
    "outputId": "717b8b2c-63b5-4af9-b68e-6b5bdb634f42"
   },
   "outputs": [
    {
     "data": {
      "text/plain": [
       "[['I want to make a reservation under the name of William Smith . ',\n",
       "  ' OK , Mr . Smith . When will you arrive ? ',\n",
       "  ' Around 12:00 . ',\n",
       "  ' Party of two ? ',\n",
       "  ' No , we have five persons . ',\n",
       "  ' All right , Mr . Smith . I will arrange a table for 5 at 12:00 for you . ',\n",
       "  ' Thank you . '],\n",
       " [\"Interesting lectures , aren't they ? \",\n",
       "  ' Yes , very . I thought the last speaker was especially good . ',\n",
       "  \" Let me introduce myself , by the way . My name's Charies Ford . \",\n",
       "  \" How do you do ? I'm Bob Evans . \"]]"
      ]
     },
     "execution_count": 172,
     "metadata": {},
     "output_type": "execute_result"
    }
   ],
   "source": [
    "random.sample(load_pkl_data(os.path.join(current_path,\"data/movie_conversations.pkl\")), 2)\n",
    "random.sample(load_huggingface_dataset(), 2)"
   ]
  },
  {
   "attachments": {},
   "cell_type": "markdown",
   "metadata": {
    "id": "xwOSLJ1DgysU"
   },
   "source": [
    "Die Daten des Datensatzes bestehen aus Dialogen, die in Form von Listen von Sätzen dargestellt werden. Jeder Dialog enthält mehrere Sätze, die abwechselnd von verschiedenen Sprechern stammen und in einem Konversationsformat präsentiert werden. Es wird sichtbar das es sich derzeit noch um mehr als zwei Gesprächssätze handelt diese müssen im nachfolgenden weiter verarbeitet werden.\n",
    "\n",
    "Für diese Verarbeitung wird nun die *prepare_data* Funktion verwendet in die beide Datensätze hineingeladen werden. Die Funktion iteriert über jede Konversation in der Liste conversations. Innerhalb jeder Konversation durchläuft sie die Sätze bis zum vorletzten Satz, daher wird range(len(conversation) - 1) verwendet. Für jeden Satz in der Konversation wird ein Paar gebildet, das aus dem aktuellen Satz conversation[i] und dem darauffolgenden Satz conversation[i + 1] besteht. Beide Sätze in diesem Paar werden durch die Funktion normalize_string normalisiert. Das normalisierte Paar wird anschließend zu einer neuen Liste hinzugefügt."
   ]
  },
  {
   "cell_type": "code",
   "execution_count": 173,
   "metadata": {
    "id": "0WqDqqiZMsHo"
   },
   "outputs": [],
   "source": [
    "def prepare_data(conversations: List[List[str]]) -> List[List[str]]:\n",
    "    return [[preprocess_string(conversation[i]), preprocess_string(conversation[i + 1])]\n",
    "            for conversation in conversations for i in range(len(conversation) - 1)]"
   ]
  },
  {
   "cell_type": "markdown",
   "metadata": {
    "id": "uVWT26JtOag-"
   },
   "source": [
    "Die Funktion *preprocess_string* normalisiert eine Zeichenfolge, indem sie zunächst zu Kleinbuchstaben konvertiert und Leerzeichen entfernt. Anschließend wandelt sie die Zeichenfolge mit unicode_to_ascii in ASCII um und ersetzt alle nicht-alphabetischen Zeichen. Am Ende werden nochmals führende und nachfolgende Leerzeichen entfernt. Die Normalisierung der String sorgt für einheitliche und bereinigte Eingabedaten. Durch die Konvertierung zu Kleinbuchstaben, die Entfernung diakritischer Zeichen und unnötiger Symbole sowie die korrekte Handhabung von Satzzeichen wird das Vokabular reduziert und Rauschen eliminiert."
   ]
  },
  {
   "cell_type": "code",
   "execution_count": 174,
   "metadata": {
    "id": "pw1Aie2iObCK"
   },
   "outputs": [],
   "source": [
    "def preprocess_string(s: str) -> str:\n",
    "    s = unicode_to_ascii(s.lower().strip())\n",
    "    s = re.sub(r\"[.!?]\", \"\", s)  # Remove all punctuation marks\n",
    "    s = re.sub(r\"[^a-zA-Z]+\", \" \", s)  # Remove non-alphabetic characters\n",
    "    return s.strip()"
   ]
  },
  {
   "cell_type": "code",
   "execution_count": 175,
   "metadata": {
    "id": "1uojjjYVObde"
   },
   "outputs": [],
   "source": [
    "def unicode_to_ascii(s: str) -> str:\n",
    "    return ''.join(c for c in unicodedata.normalize('NFD', s) if unicodedata.category(c) != 'Mn')"
   ]
  },
  {
   "cell_type": "markdown",
   "metadata": {
    "id": "fdVJdfOlOyqq"
   },
   "source": [
    "Hier ist ein Beispiel der Verwendung:"
   ]
  },
  {
   "cell_type": "code",
   "execution_count": 176,
   "metadata": {
    "colab": {
     "base_uri": "https://localhost:8080/",
     "height": 35
    },
    "id": "ViP3nMwxlB2i",
    "outputId": "7cca11c0-d9b8-436a-9d9f-874543e6b164"
   },
   "outputs": [
    {
     "data": {
      "text/plain": [
       "'hello world how s it going'"
      ]
     },
     "execution_count": 176,
     "metadata": {},
     "output_type": "execute_result"
    }
   ],
   "source": [
    "preprocess_string(\"Héllo, wörld! How's it going?\")"
   ]
  },
  {
   "attachments": {},
   "cell_type": "markdown",
   "metadata": {
    "id": "FLHVwpJDljIw"
   },
   "source": [
    "Im nächsten Schritt der *prepare_dataset* Funktion werden die Daten nach dem Initialisieren der Vocab Klasse gefiltert und getrimmt.\n",
    "* **filter_and_trim_data**:\n",
    "Diese Funktion filtert zunächst die Paare, die zu lang sind, und fügt die Sätze dieser Paare der Vokab-Klasse hinzu. Anschließend werden selten vorkommende Wörter aus der Klasse entfernt, und die Paare, die diese Wörter enthalten, ebenfalls herausgefiltert. Zum Schluss gibt die Funktion die gefilterten Paare und das aktualisierte Vokabular zurück.\n",
    "\n",
    "* **filter_pairs**:\n",
    "Hier wird die Liste von Satzpaaren anhand der maximalen Länge gefiltert. Behalten werden nur Paare, bei denen beide Sätze kürzer als die angegebene maximale Länge sind.\n",
    "\n",
    "* **trim_rare_words**:\n",
    "Diese Funktion entfernt selten vorkommende Wörter aus dem Vokabular. Sie nimmt eine minimale Anzahl von Vorkommen als Parameter und behält nur die Wörter, die mindestens so oft vorkommen. Momentan ist dieser Score auf 3 gesetzt. Satzpaare, die Wörter enthalten, die nicht mehr im Vokabular sind, werden ebenfalls entfernt.\n",
    "\n",
    "Das Reduzieren der Wörter ist ein wichtiger Schritt, um die Robustheit des Modells im späteren Training zu erhöhen. Wörter, die selten im Datensatz vorkommen, sollten nach Möglichkeit gar nicht verwendet werden, da sie das Modell unnötig komplex machen. Ebenso ist es relevant, die Sätze zu kürzen, um sicherzustellen, dass die Modelle, wie zum Beispiel LSTMs, optimal arbeiten können. Diese Architekturen haben eine begrenzte Kapazität für die Verarbeitung von Satzlängen, weshalb zu lange Sätze die Leistung und Effizienz des Modells beeinträchtigen können. Durch diese Maßnahmen wird die Verarbeitung vereinfacht und die Genauigkeit des Modells gesteigert."
   ]
  },
  {
   "cell_type": "code",
   "execution_count": 177,
   "metadata": {
    "id": "yNbWHZ-4Obvl"
   },
   "outputs": [],
   "source": [
    "def filter_and_trim_data(vocab: Vocab, pairs: List[List[str]], max_length: int) -> Tuple[List[List[str]], Vocab]:\n",
    "    pairs = filter_pairs(pairs, max_length)\n",
    "    for pair in pairs:\n",
    "        vocab.add_sentence(pair[0])\n",
    "        vocab.add_sentence(pair[1])\n",
    "    pairs = trim_rare_words(vocab, pairs, min_count=3)\n",
    "    return pairs, vocab"
   ]
  },
  {
   "cell_type": "code",
   "execution_count": 178,
   "metadata": {
    "id": "meC_-m_ROb_e"
   },
   "outputs": [],
   "source": [
    "def filter_pairs(pairs: List[List[str]], max_length: int) -> List[List[str]]:\n",
    "    return [pair for pair in pairs if len(pair[0].split()) < max_length and len(pair[1].split()) < max_length]"
   ]
  },
  {
   "cell_type": "code",
   "execution_count": 179,
   "metadata": {
    "id": "iLUFzGTbOcTq"
   },
   "outputs": [],
   "source": [
    "def trim_rare_words(vocab: Vocab, pairs: List[List[str]], min_count: int) -> List[List[str]]:\n",
    "    vocab.trim(min_count)\n",
    "    return [pair for pair in pairs\n",
    "            if all(word in vocab.word_to_index for word in pair[0].split()) and\n",
    "            all(word in vocab.word_to_index for word in pair[1].split())]"
   ]
  },
  {
   "cell_type": "markdown",
   "metadata": {
    "id": "pQfVyPrVrsz7"
   },
   "source": [
    "Da nun alle Funktionen zur Datenverarbeitung initialisiert sind kann diese ausgeführt werden. Die Funktion liefert nun die Vocab Klasse mit den Wörtern zurück und die Satzpaare in einem Train und Test Split von 70/30%. Die maximale Satzlänge wird auf 15 Wörter gesetzt. "
   ]
  },
  {
   "cell_type": "code",
   "execution_count": 180,
   "metadata": {
    "colab": {
     "base_uri": "https://localhost:8080/"
    },
    "id": "ffJJ0u5Or3SX",
    "outputId": "aabe0930-a9b7-46bd-d030-2788b4481018"
   },
   "outputs": [
    {
     "name": "stdout",
     "output_type": "stream",
     "text": [
      "Load conversations...\n",
      "Number of raw dialogs: 96215\n",
      "Number of prepared sentence pairs: 311477\n",
      "Number of sentence pairs after filtering and trimming: 96626\n",
      "\n",
      "Number of words: 11533\n",
      "\n",
      "Number of train pairs: 67638\n",
      "Number of test pairs: 28988\n",
      "\n",
      "Example of a the train pairs:\n",
      "[['oh yes yes', 'cool can i get one for vada'], ['what about driving to shanghai', 'driving no way it s too far']]\n"
     ]
    }
   ],
   "source": [
    "max_length = 10\n",
    "vocab, train_pairs, test_pairs = prepare_dataset(max_length=max_length)\n",
    "print()\n",
    "print(f\"Number of words: {vocab.num_of_words}\")\n",
    "print()\n",
    "print(f\"Number of train pairs: {len(train_pairs)}\")\n",
    "print(f\"Number of test pairs: {len(test_pairs)}\")\n",
    "print()\n",
    "print(f\"Example of a the train pairs:\\n{random.sample(train_pairs, 2)}\")"
   ]
  },
  {
   "attachments": {},
   "cell_type": "markdown",
   "metadata": {
    "id": "6Vsw_HDRwSqR"
   },
   "source": [
    "Anhand der obigen Ausgabe ist erst eine deutliche Vergrößerung des Datensatzes erkennbar und anschließend eine Verkleinerung durch die Filterung der Sätze. Hier durch wurde eine gute Grundlage geschaffen die Daten nun weiter für das Training vorzubereiten."
   ]
  },
  {
   "cell_type": "markdown",
   "metadata": {
    "id": "Wn6R4jW_BE2O"
   },
   "source": [
    "## Dataloader auffüllen"
   ]
  },
  {
   "cell_type": "markdown",
   "metadata": {
    "id": "yt8X72pG7_mC"
   },
   "source": [
    "Der nächste Schritt ist nun die Daten in die DataLoader für das Training und Testen des Modells zu laden. Dataloader sind eine wichtige Komponente von PyTorch, da sie Daten effizient laden und in verarbeitbare Batches aufteilen. Dies erhöht die Parallelisierbarkeit und beschleunigt das Training.\n",
    "\n",
    "Ein wichtige Funktion die hierfür verwendet wird ist die *convert_word_to_index* Funktion durch diese werden die Sätze mit hilfe des zuvor definierten Vocabs nun in Indizes umgewandelt, dazu folgendes Beispiel."
   ]
  },
  {
   "cell_type": "code",
   "execution_count": 181,
   "metadata": {
    "colab": {
     "base_uri": "https://localhost:8080/"
    },
    "id": "nGes39f74UCA",
    "outputId": "43bdb1b3-8de9-450f-f80a-a2f3f620fff6"
   },
   "outputs": [
    {
     "data": {
      "text/plain": [
       "[515, 966, 82, 31, 40, 111]"
      ]
     },
     "execution_count": 181,
     "metadata": {},
     "output_type": "execute_result"
    }
   ],
   "source": [
    "def convert_word_to_index(vocab: Vocab, sentence: str):\n",
    "    return [vocab.word_to_index[word] for word in sentence.split(' ')]\n",
    "\n",
    "\n",
    "convert_word_to_index(vocab=vocab, sentence=\"hello world how s it going\")"
   ]
  },
  {
   "attachments": {},
   "cell_type": "markdown",
   "metadata": {
    "id": "Wrbwbr-Z-5w9"
   },
   "source": [
    "Diese *convert_word_to_index* Funktion wird in der nachfolgenden Funktion auf die Satzpaare angewandt. Zuvor wurden diese Elemente mit Nullen gefühlt um alle nicht definierten Stellen in der Länge zu padden. Das Ende des Satzes wird mit dem End-of-sentence Token versehen."
   ]
  },
  {
   "cell_type": "code",
   "execution_count": 182,
   "metadata": {
    "id": "dTZIn4_6ET_R"
   },
   "outputs": [],
   "source": [
    "def process_pairs(pairs, vocab, max_length):\n",
    "    num_pairs = len(pairs)\n",
    "    input_sequences = np.zeros((num_pairs, max_length), dtype=np.int32)\n",
    "    target_sequences = np.zeros((num_pairs, max_length), dtype=np.int32)\n",
    "\n",
    "    for idx, (input_sentence, target_sentence) in enumerate(pairs):\n",
    "        input_indices = convert_word_to_index(vocab, input_sentence)\n",
    "        target_indices = convert_word_to_index(vocab, target_sentence)\n",
    "        input_indices.append(EOS_token)\n",
    "        target_indices.append(EOS_token)\n",
    "        input_sequences[idx, :len(input_indices)] = input_indices\n",
    "        target_sequences[idx, :len(target_indices)] = target_indices\n",
    "\n",
    "    return input_sequences, target_sequences"
   ]
  },
  {
   "cell_type": "markdown",
   "metadata": {
    "id": "O8mvjEhMEYP6"
   },
   "source": [
    "Hier ist nochmals ein Beispiel wie die Satzpaare nach der Verwendung aussehen."
   ]
  },
  {
   "cell_type": "code",
   "execution_count": 183,
   "metadata": {
    "colab": {
     "base_uri": "https://localhost:8080/"
    },
    "id": "m7_X91VfFkc1",
    "outputId": "057e01b7-f112-4e6f-f4b8-576ebfa40a9c"
   },
   "outputs": [
    {
     "data": {
      "text/plain": [
       "(array([[515, 966,   2,   0,   0,   0,   0,   0,   0,   0]]),\n",
       " array([[ 82,  31,  40, 111,   2,   0,   0,   0,   0,   0]]))"
      ]
     },
     "execution_count": 183,
     "metadata": {},
     "output_type": "execute_result"
    }
   ],
   "source": [
    "process_pairs([['hello world', 'how s it going']], vocab, max_length)"
   ]
  },
  {
   "attachments": {},
   "cell_type": "markdown",
   "metadata": {
    "id": "Ik91i_1yH5Zv"
   },
   "source": [
    "Die abgearbeiteten Satzpaar Sequenzen werden nun nach einer Umwandlung in Tensoren entsprechen der Batchsize in die Dataloader gefüllt. Dabei werden die Trainingsdaten nochmals geshuffelt."
   ]
  },
  {
   "cell_type": "code",
   "execution_count": 184,
   "metadata": {
    "id": "4_heLL0r-6hG"
   },
   "outputs": [],
   "source": [
    "def get_dataloader(vocab, batch_size, max_length, train_pairs, test_pairs):\n",
    "    train_input_sequences, train_target_sequences = process_pairs(train_pairs, vocab, max_length)\n",
    "    test_input_sequences, test_target_sequences = process_pairs(test_pairs, vocab, max_length)\n",
    "\n",
    "    train_tensor_input = torch.LongTensor(train_input_sequences).to(device)\n",
    "    train_tensor_target = torch.LongTensor(train_target_sequences).to(device)\n",
    "    test_tensor_input = torch.LongTensor(test_input_sequences).to(device)\n",
    "    test_tensor_target = torch.LongTensor(test_target_sequences).to(device)\n",
    "\n",
    "    train_dataset = TensorDataset(train_tensor_input, train_tensor_target)\n",
    "    test_dataset = TensorDataset(test_tensor_input, test_tensor_target)\n",
    "\n",
    "    train_dataloader = DataLoader(train_dataset, sampler=RandomSampler(train_dataset), batch_size=batch_size)\n",
    "    test_dataloader = DataLoader(test_dataset, sampler=SequentialSampler(test_dataset), batch_size=batch_size)\n",
    "\n",
    "    return train_dataloader, test_dataloader"
   ]
  },
  {
   "cell_type": "markdown",
   "metadata": {
    "id": "r1IdgwMCKRCI"
   },
   "source": [
    "Nun kann die Funktion mit einer Batch Size von 512 ausgeführt werden."
   ]
  },
  {
   "cell_type": "code",
   "execution_count": 185,
   "metadata": {
    "id": "umWmFvy03CSW"
   },
   "outputs": [],
   "source": [
    "batch_size = 256\n",
    "\n",
    "train_dataloader, test_dataloader = get_dataloader(vocab=vocab, batch_size=batch_size, max_length=max_length,\n",
    "                                                       train_pairs=train_pairs, test_pairs=test_pairs)"
   ]
  },
  {
   "attachments": {
    "41f62864-9a13-4ec6-ba55-c5339e40d15b.jpg": {
     "image/jpeg": "[encoded data removed]"
    }
   },
   "cell_type": "markdown",
   "metadata": {
    "id": "LN5L086_BK-q"
   },
   "source": [
    "## Architektur\n",
    "\n",
    "Als Architektur wurde sich für ein Sequence to Sequence Modell entschieden, dabei besteht diese aus einem Encoder, der die Eingabesequenz verarbeitet, und einem Decoder, der die Ausgabesequenz generiert. Des Weiteren wurde  der Encoder Architektur ein Bahdanau Attention Layer hinzugefügt um sich bei jedem Schritt auf verschiedene Teile der Eingabesequenz zu fokussieren zu können.\n",
    "\n",
    "![encoder.jpg](attachment:41f62864-9a13-4ec6-ba55-c5339e40d15b.jpg)\n",
    "\n",
    "Darstellung einer Sequence to Sequence Architektur"
   ]
  },
  {
   "cell_type": "markdown",
   "metadata": {
    "id": "ZkF042mnG4I8"
   },
   "source": [
    "### Encoder\n",
    "\n",
    "Der Encoder besteht zum einen aus dem Embedding Layer der die eingegebenen Tokens in Vektoren umwandelt. Nach diesem folgt ein Dropout Layer der dazu dient Overfitting zu verhindern in dem während des Trainings zufällig einige der Verbindungen in den Neuronen entfernt werden. Drauffolgend werden die Daten im nächsten Layer an ein LSTM übergeben das standardmäßig eine Dropout Rate von 0.1 hat, wenn mehr als ein Layer für das LSTM definiert wird."
   ]
  },
  {
   "cell_type": "code",
   "execution_count": 186,
   "metadata": {
    "id": "dYsRJe8p4Iq_"
   },
   "outputs": [],
   "source": [
    "class EncoderLSTM(nn.Module):\n",
    "    def __init__(self, input_size, hidden_size, num_layers=1, dropout_p=0.1):\n",
    "        super(EncoderLSTM, self).__init__()\n",
    "        self.hidden_size = hidden_size\n",
    "        self.num_layers = num_layers\n",
    "\n",
    "        self.embedding = nn.Embedding(input_size, hidden_size)\n",
    "        self.lstm = nn.LSTM(hidden_size, hidden_size, num_layers=num_layers, batch_first=True,\n",
    "                            dropout=dropout_p if num_layers > 1 else 0)\n",
    "        self.dropout = nn.Dropout(dropout_p)\n",
    "\n",
    "    def forward(self, input):\n",
    "        embedded = self.dropout(self.embedding(input))\n",
    "        output, hidden = self.lstm(embedded)\n",
    "        return output, hidden"
   ]
  },
  {
   "attachments": {
    "34efe9cd-965f-42c5-9441-3741e10cb1c7.webp": {
     "image/webp": "[encoded data removed]"
    }
   },
   "cell_type": "markdown",
   "metadata": {
    "id": "AxUGURu6BNZf"
   },
   "source": [
    "### Decoder Architektur mit Bahdanau Attention\n",
    "\n",
    "Im nächsten Schritt auf den Bahdanau Attention Mechatnismus eingegangen. Im weitesten Sinne wird in dieser Klasse wie folgt vorgegangen. Als erstes wird der Query Vektur um eine Dimension erweitert um die richtige Form zu haben. Nun wird im nächsten Schritt einmal der Query Layer und der der Key Layer auf die Query und den Key angewendet und dieser hier durch linear transformiert. Als Key wird der Encoder Output verwendet. Anhand dieser beiden Transformierten Vektoren wird nun der durch Addition und Anwendung der Tanh-Aktivierungsfunktion der Score berechnet. Dieser Score wird nun weiterhin wieder auf die korrekte Form gebracht. Im nächsten Schritt werden hieraus die Attention Gewichte berechnet mit der Zurhilfenahme der Softmax-Funktion. Der eigentliche Kontext Vektor wird nun anhand dieser Gewichte und Key-Vektoren im finalen Schritt berechnet. [Code Source](https://github.com/lukysummer/Bahdanau-Attention-in-Pytorch/blob/master/Attention.py) | [Source](https://medium.com/@a.akhterov/step-by-step-understanding-of-the-bahdanau-attention-mechanism-with-code-5c62e280ca13)\n",
    "\n",
    "![bahdanau_1_10.webp](attachment:34efe9cd-965f-42c5-9441-3741e10cb1c7.webp)\n",
    "\n",
    "Bahdanau Attention"
   ]
  },
  {
   "cell_type": "code",
   "execution_count": 187,
   "metadata": {
    "id": "SzEPVMTJBQce"
   },
   "outputs": [],
   "source": [
    "class BahdanauAttentionLayer(nn.Module):\n",
    "    def __init__(self, hidden_size):\n",
    "        super(BahdanauAttentionLayer, self).__init__()\n",
    "        self.query_layer = nn.Linear(hidden_size, hidden_size)  # Wa\n",
    "        self.key_layer = nn.Linear(hidden_size, hidden_size)  # Ua\n",
    "        self.score_layer = nn.Linear(hidden_size, 1)  # Va\n",
    "\n",
    "    def forward(self, query, keys):\n",
    "        # Ensure query has shape (batch_size, 1, hidden_size)\n",
    "        query = query.unsqueeze(1)  # Add time dimension\n",
    "\n",
    "        # Apply linear transformations\n",
    "        transformed_query = self.query_layer(query)  # Shape: (batch_size, 1, hidden_size)\n",
    "        transformed_keys = self.key_layer(keys)  # Shape: (batch_size, seq_len, hidden_size)\n",
    "\n",
    "        # Compute scores\n",
    "        scores = self.score_layer(torch.tanh(transformed_query + transformed_keys))  # Shape: (batch_size, seq_len, 1)\n",
    "        scores = scores.squeeze(2).unsqueeze(1)  # Shape: (batch_size, 1, seq_len)\n",
    "\n",
    "        # Compute attention weights\n",
    "        attention_weights = F.softmax(scores, dim=-1)  # Shape: (batch_size, 1, seq_len)\n",
    "\n",
    "        # Compute context vector\n",
    "        context_vector = torch.bmm(attention_weights, keys)  # Shape: (batch_size, 1, hidden_size)\n",
    "\n",
    "        return context_vector, attention_weights"
   ]
  },
  {
   "cell_type": "markdown",
   "metadata": {
    "id": "ou2C-5fSn9lC"
   },
   "source": [
    "Im Decoder wird ebenfalls ein LSTM mit Dropout 0.1 bei mehr als einem Layer verwendet. Der wesentliche Unterschied ist, dass als Input size die doppelte hidden_size verwendet wird. Es wird damit begonnen, dass dem Forward Layer zu erst der Decoder Input Initial mit Start-of-Sentence Tokens gefüllt um den Start zu signalisieren, bzw. der Beginn einer neuen Sequenz. Darauf folgend werden die Hidden Layer des Decoders mit den selben Werten wie die des Encoders gefüllt. Dieser Schritt eine nahtlose Übergabe der gelernten Repräsentationen vom Encoder zum Decoder, was zu einer verbesserten Leistung und Effektivität der Encoder-Decoder-Architektur führt.\n",
    "\n",
    "Im nächsten Schritt wird nun anhand der definierten maximal Länge über die Encoder Outputs iteriert um hieraus die Antwort auf die Eingabe zu generieren. Dazu wird die Funktion *forward_step* verwendet. Diese *forward_step* Funktion nutzt nun den Attention Mechanismus, der drauß erhaltene Kontext wird mit dem Embedding zusammengefügt und als Input des LSTMs verwendet. Der Output des LSTMs wird nun nochmals durch einen Linear Layer geleitet und zurück an die Forward Funktion gereicht.\n",
    "\n",
    "Wenn nun während des Trainings ein Target Tensor definiert ist, wird im weiteren Teacher forcing, also das Vorgeben der Zielwerte während der Modellvorhersage, angewendet. Dies bedeutet, dass das Modell während des Trainings die tatsächlichen Zielwerte anstelle der vorhergesagten Werte als Eingabe für die nächsten Schritte verwendet, um den Lernprozess zu stabilisieren und zu beschleunigen.\n",
    "\n",
    "Im finalen Schritt werden nun die Decoder Outputs zusammengefügt und eine Log-Softmax-Funktion auf den Tensor angewendet. Die Rückgabe enhält nun den Output, den Hidden State des Decoders und die Attention Weights. Wobei nur der Output für das weitere Training relevant ist."
   ]
  },
  {
   "cell_type": "code",
   "execution_count": 188,
   "metadata": {
    "id": "_szDvDlHn92H"
   },
   "outputs": [],
   "source": [
    "class DecoderLSTMAttention(nn.Module):\n",
    "    def __init__(self, hidden_size, output_size, max_length, num_layers=1, dropout=0.1):\n",
    "        super(DecoderLSTMAttention, self).__init__()\n",
    "        self.embedding = nn.Embedding(output_size, hidden_size)\n",
    "        self.attention = BahdanauAttentionLayer(hidden_size)\n",
    "        self.lstm = nn.LSTM(2 * hidden_size, hidden_size, num_layers=num_layers, batch_first=True,\n",
    "                            dropout=dropout if num_layers > 1 else 0)\n",
    "        self.out = nn.Linear(hidden_size, output_size)\n",
    "        self.dropout = nn.Dropout(dropout)\n",
    "        self.max_length = max_length\n",
    "\n",
    "    def forward(self, encoder_outputs, encoder_hidden, target_tensor=None):\n",
    "        batch_size = encoder_outputs.size(0)\n",
    "        decoder_input = torch.empty(batch_size, 1, dtype=torch.long, device=device).fill_(SOS_token)\n",
    "        decoder_hidden = encoder_hidden\n",
    "        decoder_outputs = []\n",
    "        attentions = []\n",
    "\n",
    "        for i in range(self.max_length):\n",
    "            decoder_output, decoder_hidden, attn_weights = self.forward_step(\n",
    "                decoder_input, decoder_hidden, encoder_outputs\n",
    "            )\n",
    "            decoder_outputs.append(decoder_output)\n",
    "            attentions.append(attn_weights)\n",
    "\n",
    "            if target_tensor is not None:\n",
    "                decoder_input = target_tensor[:, i].unsqueeze(1)  # Teacher forcing\n",
    "            else:\n",
    "                _, topi = decoder_output.topk(1)\n",
    "                decoder_input = topi.squeeze(-1).detach()\n",
    "\n",
    "        decoder_outputs = torch.cat(decoder_outputs, dim=1)\n",
    "        decoder_outputs = F.log_softmax(decoder_outputs, dim=-1)\n",
    "        attentions = torch.cat(attentions, dim=1)\n",
    "\n",
    "        return decoder_outputs, decoder_hidden, attentions\n",
    "\n",
    "    def forward_step(self, input, hidden, encoder_outputs):\n",
    "        embedded = self.dropout(self.embedding(input))\n",
    "\n",
    "        query = hidden[0][-1]  # Take the last layer's hidden state from (h_n, c_n)\n",
    "        context, attn_weights = self.attention(query, encoder_outputs)\n",
    "        input_lstm = torch.cat((embedded, context), dim=2)\n",
    "\n",
    "        output, hidden = self.lstm(input_lstm, hidden)\n",
    "        output = self.out(output)\n",
    "\n",
    "        return output, hidden, attn_weights"
   ]
  },
  {
   "cell_type": "markdown",
   "metadata": {
    "id": "0EpFr3OYeJ3i"
   },
   "source": [
    "Im folgenden werden nun der Encoder und der Decoder definiert und mit jeweils einer Hidden Size von 500 und einer Layer Anzahl von 2 definiert. Der Dropout wird auf 0.1 festgelegt."
   ]
  },
  {
   "cell_type": "code",
   "execution_count": 189,
   "metadata": {
    "id": "nTG-3bJbBcoX"
   },
   "outputs": [],
   "source": [
    "hidden_size = 500\n",
    "encoder_layer_number = 2\n",
    "decoder_layer_number = 2\n",
    "dropout = 0.1\n",
    "encoder = EncoderLSTM(input_size=vocab.num_of_words, num_layers=encoder_layer_number, hidden_size=hidden_size).to(\n",
    "    device)\n",
    "decoder = DecoderLSTMAttention(hidden_size=hidden_size, output_size=vocab.num_of_words, num_layers=decoder_layer_number,\n",
    "                                    max_length=max_length,\n",
    "                                    dropout=dropout).to(device)"
   ]
  },
  {
   "cell_type": "markdown",
   "metadata": {
    "id": "f8CRB5rYBf97"
   },
   "source": [
    "## Trainingsprozess"
   ]
  },
  {
   "cell_type": "markdown",
   "metadata": {
    "id": "QJ_hN2ZT_Lrq"
   },
   "source": [
    "Für das Ausführen des Trainings wird jeweils eine Trainingsfunktion und eine Testfunktion benötigt die jeweils den Loss pro Epoche berechnet."
   ]
  },
  {
   "cell_type": "markdown",
   "metadata": {
    "id": "BdrcHdiWcPNs"
   },
   "source": [
    "### Training pro Epoche\n",
    "\n",
    "In der folgenden Funktion wird jeweils des Training für eine Epoche ausgeführt, dazu werden über die Daten des Train_dataloaders iteriert der die Trainingsdaten in Batches liefert. Hierbei werden zu Beginn jeweils input_tensor und target_tensor extrahiert. Vor jedem Vorwärtsdurchlauf werden die Gradienten der Optimierer (encoder_optimizer und decoder_optimizer) auf null gesetzt.\n",
    "\n",
    "Die Eingabesequenz wird durch den Encoder geschickt, um encoder_outputs und encoder_hidden zu erhalten.\n",
    "\n",
    "Der Decoder verwendet die encoder_outputs und encoder_hidden, zusammen mit der target_tensor, um die decoder_outputs (die Vorhersagen des Decoders) zu berechnen.\n",
    "\n",
    "Die decoder_outputs und target_tensor werden genutzt, um den Verlust zu berechnen. Der Verlust wird mit der Verlustfunktion criterion (eine Negative Log Likelihood Loss) berechnet.\n",
    "\n",
    "Um die Gradienten zu berechnen wird Backpropagation angewendet. Außerdem wird Gradienten-Clipping verwendet um zu verhindern das es zu einer Explosion dieser kommt. Als nächstes werden die Optimizer akualisiert und der Loss an die eigentliches Trainingsfunktion zurückgegeben."
   ]
  },
  {
   "cell_type": "code",
   "execution_count": 190,
   "metadata": {
    "id": "7ynRujfkclp5"
   },
   "outputs": [],
   "source": [
    "def train_epoch(train_dataloader: DataLoader, encoder: EncoderLSTM, decoder: DecoderLSTMAttention, clip: float,\n",
    "                encoder_optimizer: optim,\n",
    "                decoder_optimizer: optim, criterion: nn.NLLLoss):\n",
    "    total_loss = 0\n",
    "    for data in train_dataloader:\n",
    "        input_tensor, target_tensor = data\n",
    "\n",
    "        encoder_optimizer.zero_grad()\n",
    "        decoder_optimizer.zero_grad()\n",
    "\n",
    "        encoder_outputs, encoder_hidden = encoder(input_tensor)\n",
    "\n",
    "        decoder_outputs, _, _ = decoder(encoder_outputs=encoder_outputs, encoder_hidden=encoder_hidden,\n",
    "                                        target_tensor=target_tensor)\n",
    "\n",
    "        loss = criterion(\n",
    "            decoder_outputs.view(-1, decoder_outputs.size(-1)),\n",
    "            target_tensor.view(-1)\n",
    "        )\n",
    "        loss.backward()\n",
    "\n",
    "        # Gradient clipping\n",
    "        nn.utils.clip_grad_norm_(encoder.parameters(), clip)\n",
    "        nn.utils.clip_grad_norm_(decoder.parameters(), clip)\n",
    "\n",
    "        encoder_optimizer.step()\n",
    "        decoder_optimizer.step()\n",
    "\n",
    "        total_loss += loss.item()\n",
    "\n",
    "    return total_loss / len(train_dataloader)"
   ]
  },
  {
   "cell_type": "markdown",
   "metadata": {
    "id": "bHiP2IladxSA"
   },
   "source": [
    "### Test pro Epoche\n",
    "\n"
   ]
  },
  {
   "cell_type": "markdown",
   "metadata": {
    "id": "pD0Lm0fA_X0X"
   },
   "source": [
    "Mit der *test_epoch* Funktion wird parallel zum Training evaluiert wie hoch der Loss angewendet auf den Testdatensatz performt. Dieser Schritt soll verhindern das es zu einem Overfitting auf die Trainingsdaten kommt.\n",
    "\n",
    "Diese Funktion enthält ähnliche Elemente wie die Train Methode allerdings wird hier die Speicherung der Gradienten deaktivert da keine Modelparameter aktualisiert werden. Außerdem wird nur der Loss berechnet und zurück an die Hauptfunktion gegeben."
   ]
  },
  {
   "cell_type": "code",
   "execution_count": 191,
   "metadata": {
    "id": "T8074cL4dw5Z"
   },
   "outputs": [],
   "source": [
    "def test_epoch(test_dataloader: DataLoader, encoder: EncoderLSTM, decoder: DecoderLSTMAttention, criterion: nn.NLLLoss):\n",
    "    total_loss = 0\n",
    "    with torch.no_grad():\n",
    "        for data in test_dataloader:\n",
    "            input_tensor, target_tensor = data\n",
    "\n",
    "            encoder_outputs, encoder_hidden = encoder(input_tensor)\n",
    "\n",
    "            decoder_outputs, _, _ = decoder(encoder_outputs=encoder_outputs, encoder_hidden=encoder_hidden,\n",
    "                                            target_tensor=target_tensor)\n",
    "\n",
    "            loss = criterion(\n",
    "                decoder_outputs.view(-1, decoder_outputs.size(-1)),\n",
    "                target_tensor.view(-1)\n",
    "            )\n",
    "            total_loss += loss.item()\n",
    "\n",
    "    return total_loss / len(test_dataloader)"
   ]
  },
  {
   "cell_type": "markdown",
   "metadata": {
    "id": "RRtGrgHNcl7s"
   },
   "source": [
    "Bei diesen beiden Funktionen handelt es sich um Hilfsfunktion um die während des Trainings die veraussichtlich noch verbleibende Zeit berechnen und anzeigen zu können."
   ]
  },
  {
   "cell_type": "code",
   "execution_count": 192,
   "metadata": {
    "id": "rCY8ajE-Bh6A"
   },
   "outputs": [],
   "source": [
    "def as_minutes(s):\n",
    "    m = math.floor(s / 60)\n",
    "    s -= m * 60\n",
    "    return '%dm %ds' % (m, s)\n",
    "\n",
    "\n",
    "def time_since(since, percent):\n",
    "    now = time.time()\n",
    "    s = now - since\n",
    "    es = s / (percent)\n",
    "    rs = es - s\n",
    "    return '%s (- %s)' % (as_minutes(s), as_minutes(rs))"
   ]
  },
  {
   "cell_type": "markdown",
   "metadata": {
    "id": "ckjvZjs5dq5k"
   },
   "source": [
    "Mit dieser Funktion werden die wesentlichen States der Modellarchitektur gespeichert um später auch ohne Starten der Trainings ausgeführt werden zu können. In diesem Schritt wird jeweils auch die Vocab Klasse als Pkl-Datei mit abgelegt."
   ]
  },
  {
   "cell_type": "code",
   "execution_count": 193,
   "metadata": {
    "id": "o1CthOFSdrJG"
   },
   "outputs": [],
   "source": [
    "def save_checkpoint(epoch: int, encoder: EncoderLSTM, decoder: DecoderLSTMAttention, loss: float, vocab: Vocab,\n",
    "                    path: str):\n",
    "    checkpoint = {\n",
    "        'epoch': epoch,\n",
    "        'encoder_state_dict': encoder.state_dict(),\n",
    "        'decoder_state_dict': decoder.state_dict(),\n",
    "        'loss': loss,\n",
    "    }\n",
    "    torch.save(checkpoint, path)\n",
    "\n",
    "    with open(Path(path).with_suffix('.pkl'), 'wb') as file:\n",
    "        pickle.dump(vocab, file)"
   ]
  },
  {
   "cell_type": "markdown",
   "metadata": {
    "id": "tQdIloZldiPB"
   },
   "source": [
    "### Trainings Funktion"
   ]
  },
  {
   "cell_type": "markdown",
   "metadata": {
    "id": "67f7U0UXA6yc"
   },
   "source": [
    "Hier handelt es sich um die eigentliche Trainingsfunktion. Zu Beginn wird die Loss-Funktion definiert. Für diese Architektur wurde NLLLoss (Negative Log Likelihood Loss) gewählt, die speziell für Textklassifizierung geeignet ist. Außerdem wird die Methode SummaryWriter von TensorBoard verwendet. Diese dient dazu, während des Trainings kontinuierlich den Trainings- und Test-Loss auszulesen und grafisch darzustellen. Der Vergleich der Trainingsperformance ist dabei sogar über mehrere Trainingsläufe möglich, da die Resultate einfach mit dem zum Trainingsstart eingelesenen Zeitstempel abgelesen werden können. Darüber hinaus zeigt diese Funktion, abgesehen von dem Aufrufen der *train_epoch* und *test_epoch*, an, wie sich der Loss verändert. Diese Methode ist so implementiert, dass eingestellt werden kann, wie oft diese Informationen angezeigt werden."
   ]
  },
  {
   "cell_type": "code",
   "execution_count": 194,
   "metadata": {
    "id": "stouCnnbcPdU"
   },
   "outputs": [],
   "source": [
    "def train(train_dataloader: DataLoader, test_dataloader: DataLoader, vocab: Vocab, encoder: EncoderLSTM,\n",
    "          decoder: DecoderLSTMAttention, encoder_optimizer: optim.Adam, decoder_optimizer: optim.Adam, clip: float,\n",
    "          epochs: int,\n",
    "          print_every=100):\n",
    "    start = time.time()\n",
    "    print_loss_total = 0\n",
    "\n",
    "    criterion = nn.NLLLoss()\n",
    "\n",
    "    # Define a timestamp for the logging directory\n",
    "    timestamp = datetime.now().strftime(\"%Y-%m-%d_%H-%M-%S\")\n",
    "\n",
    "    # Create a directory for the run logs\n",
    "    log_dir = f'runs/{timestamp}_ep_{epochs}'\n",
    "    checkpoint_dir = os.path.join(log_dir, 'checkpoints')\n",
    "    os.makedirs(log_dir, exist_ok=True)\n",
    "    os.makedirs(checkpoint_dir, exist_ok=True)\n",
    "\n",
    "    # Initialize the SummaryWriter with the logging directory\n",
    "    writer = SummaryWriter(log_dir=log_dir)\n",
    "\n",
    "    for epoch in range(1, epochs + 1):\n",
    "        loss = train_epoch(train_dataloader=train_dataloader, encoder=encoder, decoder=decoder,\n",
    "                           encoder_optimizer=encoder_optimizer, decoder_optimizer=decoder_optimizer, clip=clip,\n",
    "                           criterion=criterion)\n",
    "        print_loss_total += loss\n",
    "\n",
    "        # Log the training loss to TensorBoard\n",
    "        writer.add_scalar('train/loss', loss, epoch)\n",
    "\n",
    "        # Evaluate on the test set\n",
    "        test_loss = test_epoch(test_dataloader=test_dataloader, encoder=encoder, decoder=decoder, criterion=criterion)\n",
    "\n",
    "        # Log the test loss to TensorBoard\n",
    "        writer.add_scalar('test/loss', test_loss, epoch)\n",
    "\n",
    "        if epoch % print_every == 0:\n",
    "            print_loss_avg = print_loss_total / print_every\n",
    "            print_loss_total = 0\n",
    "            print('%s (%d %d%%) Train Loss: %.4f | Test Loss: %.4f' % (time_since(start, epoch / epochs),\n",
    "                                                                       epoch, epoch / epochs * 100,\n",
    "                                                                       print_loss_avg, test_loss))\n",
    "            checkpoint_path = os.path.join(checkpoint_dir, f'checkpoint_epoch_{epoch}.pth')\n",
    "            save_checkpoint(epoch, encoder, decoder, loss, vocab, path=checkpoint_path)\n",
    "\n",
    "        # Close the TensorBoard writer\n",
    "        writer.close()"
   ]
  },
  {
   "cell_type": "markdown",
   "metadata": {
    "id": "eOyNfnYBenY9"
   },
   "source": [
    "Im Folgenden werden einige wichtige Hyperparameter des Modells näher beschrieben:\n",
    "\n",
    "Die Learning Rate bestimmt, wie stark die Modellgewichte bei jeder Aktualisierung in Richtung des Gradienten der Verlustfunktion angepasst werden. Diese wurde möglichst niedrig gesetzt um eine zu schnelle Aktualisierung zu vermeiden.\n",
    "\n",
    "Die Anzahl der Epochen gibt an, wie oft der gesamte Datensatz während des Trainings durchlaufen wird. Dieser Wert wurde durch experimentieren und Erfahrung definiert.\n",
    "\n",
    "Der Clip-Wert begrenzt die Gradienten während des Trainings, um das Problem der Gradientenexplosion zu vermeiden und das Training zu stabilisieren.\n",
    "\n",
    "Wichtige Parameter sind auch die Encoder- und Decoder-Optimierer, die hier mit dem Adam-Algorithmus eingestellt wurden.\n",
    "\n",
    "**WICHTIG:** Das der Trainingsprozess sehr lange dauert und in einem externen Programm ausgeführt wurde, wurde hier nur bis zur ersten Epoche trainiert um zu veranschaulichen das der Trainingsprozess funktioniert!"
   ]
  },
  {
   "cell_type": "code",
   "execution_count": 195,
   "metadata": {
    "colab": {
     "base_uri": "https://localhost:8080/",
     "height": 365
    },
    "id": "DQ_L59zZenof",
    "outputId": "2f8b6244-2e77-4bda-f531-aba37e96f0f3"
   },
   "outputs": [
    {
     "name": "stdout",
     "output_type": "stream",
     "text": [
      "0m 33s (- 0m 0s) (1 100%) Train Loss: 3.9172 | Test Loss: 3.1369\n"
     ]
    }
   ],
   "source": [
    "learning_rate = 0.0001\n",
    "epochs = 1\n",
    "clip = 50.0\n",
    "\n",
    "encoder_optimizer = optim.Adam(encoder.parameters(), lr=learning_rate)\n",
    "decoder_optimizer = optim.Adam(decoder.parameters(), lr=learning_rate)\n",
    "\n",
    "train(train_dataloader=train_dataloader, test_dataloader=test_dataloader, vocab=vocab,\n",
    "      encoder_optimizer=encoder_optimizer, decoder_optimizer=decoder_optimizer, clip=clip, encoder=encoder,\n",
    "      decoder=decoder, epochs=epochs, print_every=1)"
   ]
  },
  {
   "attachments": {},
   "cell_type": "markdown",
   "metadata": {
    "id": "r07gUwl5fCWw"
   },
   "source": [
    "## Evaluierung"
   ]
  },
  {
   "attachments": {
    "b4f9ee0a-9644-4b5e-aa32-ea335a23d825.png": {
     "image/png": "[encoded data removed]"
    },
    "dff7bacc-ea9e-4f56-b9a5-96658be19716.png": {
     "image/png": "[encoded data removed]"
    }
   },
   "cell_type": "markdown",
   "metadata": {
    "id": "Q8EzGTPREk56"
   },
   "source": [
    "Nachdem das Training abgeschlossen ist, soll im nächsten Schritt das Ergebnis ausgewertet werden.\n",
    "\n",
    "![train.png](attachment:b4f9ee0a-9644-4b5e-aa32-ea335a23d825.png)![test.png](attachment:dff7bacc-ea9e-4f56-b9a5-96658be19716.png)\n",
    "\n",
    "Für den Trainingsprozess wurden verschiedene Anzahlen von Layern und Größen getestet. Außerdem wurde die Maximal Länge der Sätze variiert. Insgesamt hat das Modell mit dem im Notebook hinterlegten Konfigurationen das bester Ergebnis erzielt. Anhand der obigen Grafik ist sehr deutlich sichtbar wann das Modell in in ein Overfitting Verhalten gerät. Da während des Trainings regelmäßig Checkpoints der Modellgewichte gemacht wurden kann nun einfach das Modell ab Epoche 40 für die Evaluierung verwendet werden.\n",
    "\n",
    "Als nächster Schritt wird nun eine Evaluierung mit den Trainingsparametern auf einem weiteren Datensatz durchgeführt, der näher an der eigentlichen Aufgabe des Chatbots liegt. Dabei handelt es sich um eine Liste von 22 Alltagsfragen, die der Chatbot möglichst sinnvoll beantworten soll."
   ]
  },
  {
   "cell_type": "code",
   "execution_count": 196,
   "metadata": {
    "id": "Xna0Or7zFJJY"
   },
   "outputs": [],
   "source": [
    "questions = [\n",
    "    \"What is your name?\",\n",
    "    \"Where do you live?\",\n",
    "    \"What color do you like the most?\",\n",
    "    \"What do you do for a living?\",\n",
    "    \"What are your hobbies?\",\n",
    "    \"Do you have any pets?\",\n",
    "    \"Which book do you find most interesting?\",\n",
    "    \"Which movie do you like the best?\",\n",
    "    \"What song do you love listening to?\",\n",
    "    \"Where were you born?\",\n",
    "    \"Which sport do you prefer playing or watching?\",\n",
    "    \"What languages can you speak?\",\n",
    "    \"Which season do you prefer?\",\n",
    "    \"Which holiday do you look forward to?\",\n",
    "    \"What do you like to drink?\",\n",
    "    \"Which TV show do you watch regularly?\",\n",
    "    \"What animal do you find fascinating?\",\n",
    "    \"What was your best subject in school?\",\n",
    "    \"What game do you like to play?\",\n",
    "    \"What is your dream job?\",\n",
    "    \"Are we friends?\",\n",
    "    \"How are you?\"\n",
    "]"
   ]
  },
  {
   "cell_type": "markdown",
   "metadata": {
    "id": "tOrXeMG1FSsx"
   },
   "source": [
    "### Laden der Modell Parameter"
   ]
  },
  {
   "cell_type": "markdown",
   "metadata": {
    "id": "Ap6FropPfYLE"
   },
   "source": [
    "Mit dieser Funktion werden nun die Encoder und Decoder States geladen."
   ]
  },
  {
   "cell_type": "code",
   "execution_count": 197,
   "metadata": {
    "id": "_6hZYrBWfYYC"
   },
   "outputs": [],
   "source": [
    "def load_checkpoint(path: str, encoder: EncoderLSTM, decoder: DecoderLSTMAttention):\n",
    "    if os.path.isfile(path):\n",
    "        print(f\"Loading checkpoint '{path}'\")\n",
    "        checkpoint = torch.load(path)\n",
    "        epoch = checkpoint['epoch']\n",
    "        encoder.load_state_dict(checkpoint['encoder_state_dict'])\n",
    "        decoder.load_state_dict(checkpoint['decoder_state_dict'])\n",
    "        print(f\"Loaded checkpoint '{path}' (epoch {epoch})\")\n",
    "        return encoder, decoder\n",
    "    else:\n",
    "        print(f\"No checkpoint found at '{path}'\")\n",
    "        return None, None"
   ]
  },
  {
   "cell_type": "markdown",
   "metadata": {
    "id": "ZYwU6xlnfcFZ"
   },
   "source": [
    "Nach dem Laden der Encoder- und Decoder-Zustände können der Encoder und Decoder auf Evaluierung gestellt werden, was den Modus verändert. Dadurch werden die zuvor notwendigen Dropout-Mechanismen deaktiviert. Wichtig beim Laden der Zustände ist, dass zuvor bereits die leeren Architekturen initialisiert wurden."
   ]
  },
  {
   "cell_type": "code",
   "execution_count": 198,
   "metadata": {
    "colab": {
     "base_uri": "https://localhost:8080/",
     "height": 418
    },
    "id": "3j1jg4HJfdiz",
    "outputId": "7f485f78-b882-4242-e750-525afcbfd285"
   },
   "outputs": [
    {
     "name": "stdout",
     "output_type": "stream",
     "text": [
      "Loading checkpoint 'C:\\Users\\Marco\\dev\\git\\chatbot_notebook\\model_checkpoint/model.pth'\n",
      "Loaded checkpoint 'C:\\Users\\Marco\\dev\\git\\chatbot_notebook\\model_checkpoint/model.pth' (epoch 40)\n"
     ]
    },
    {
     "data": {
      "text/plain": [
       "EncoderLSTM(\n",
       "  (embedding): Embedding(11533, 500)\n",
       "  (lstm): LSTM(500, 500, num_layers=2, batch_first=True, dropout=0.1)\n",
       "  (dropout): Dropout(p=0.1, inplace=False)\n",
       ")"
      ]
     },
     "execution_count": 198,
     "metadata": {},
     "output_type": "execute_result"
    }
   ],
   "source": [
    "encoder, decoder = load_checkpoint(\n",
    "    path=os.path.join(current_path,f\"model_checkpoint/model.pth\"),\n",
    "    encoder=encoder, decoder=decoder)\n",
    "\n",
    "encoder.eval()"
   ]
  },
  {
   "cell_type": "code",
   "execution_count": 199,
   "metadata": {},
   "outputs": [
    {
     "data": {
      "text/plain": [
       "DecoderLSTMAttention(\n",
       "  (embedding): Embedding(11533, 500)\n",
       "  (attention): BahdanauAttentionLayer(\n",
       "    (query_layer): Linear(in_features=500, out_features=500, bias=True)\n",
       "    (key_layer): Linear(in_features=500, out_features=500, bias=True)\n",
       "    (score_layer): Linear(in_features=500, out_features=1, bias=True)\n",
       "  )\n",
       "  (lstm): LSTM(1000, 500, num_layers=2, batch_first=True, dropout=0.1)\n",
       "  (out): Linear(in_features=500, out_features=11533, bias=True)\n",
       "  (dropout): Dropout(p=0.1, inplace=False)\n",
       ")"
      ]
     },
     "execution_count": 199,
     "metadata": {},
     "output_type": "execute_result"
    }
   ],
   "source": [
    "decoder.eval()"
   ]
  },
  {
   "attachments": {},
   "cell_type": "markdown",
   "metadata": {
    "id": "ud9srkV0fzFl"
   },
   "source": [
    "Oben dargestellt ist nun nochmal die exakte Darstellung beider Modell mit den jeweiligen Layern.\n",
    "\n",
    "Im Folgenden wird der Inferenzschritt beschrieben.\n",
    "Die Funktion tensor_from_sentence wandelt einen Satz mithilfe des Vocabs in eine Liste von Indizes um, fügt ein End-Token hinzu und konvertiert diese Liste in einen Tensor. Dieser Tensor wird anschließend von der Inferenzfunktion genutzt, um den Satz durch das Encoder-Decoder-Modell zu schicken. Der Decoder generiert daraufhin eine Sequenz von Indizes, die bis zum Erreichen des End-Tokens in Wörter umgewandelt werden. Schließlich werden die dekodierten Wörter und die Attention Weights des Decoders zurückgegeben."
   ]
  },
  {
   "cell_type": "code",
   "execution_count": 200,
   "metadata": {
    "id": "tayAe0V2gWTO"
   },
   "outputs": [],
   "source": [
    "def tensor_from_sentence(vocab: Vocab, sentence: str):\n",
    "    indexes = convert_word_to_index(vocab, sentence)\n",
    "    indexes.append(EOS_token)\n",
    "    return torch.tensor(indexes, dtype=torch.long, device=device).view(1, -1)\n",
    "\n",
    "\n",
    "def inference(encoder: EncoderLSTM, decoder: DecoderLSTMAttention, sentence: str, vocab: Vocab):\n",
    "    with torch.no_grad():\n",
    "        input_tensor = tensor_from_sentence(vocab, sentence)\n",
    "\n",
    "        encoder_outputs, encoder_hidden = encoder(input_tensor)\n",
    "        decoder_outputs, decoder_hidden, decoder_attn = decoder(encoder_outputs, encoder_hidden)\n",
    "\n",
    "        _, topi = decoder_outputs.topk(1)\n",
    "        decoded_ids = topi.squeeze()\n",
    "\n",
    "        decoded_words = []\n",
    "        for idx in decoded_ids:\n",
    "            decoded_words.append(vocab.index_to_word[idx.item()])\n",
    "    return decoded_words, decoder_attn"
   ]
  },
  {
   "cell_type": "markdown",
   "metadata": {
    "id": "re_JJtd9gIny"
   },
   "source": [
    "### Evaluierung mit Perplexity Score\n",
    "\n",
    "Zur weiteren Evaluierung wird der Perplexity Score verwendet. Dieser Score ist ein Maß für die Qualität von Sprachmodellen. Es bewertet, wie gut ein Sprachmodell Wahrscheinlichkeiten für eine Sequenz von Wörtern vorhersagen kann. Ein niedrigerer Perplexity Score zeigt an, dass das Modell besser darin ist, die Wahrscheinlichkeit der Wörter in einem Text vorherzusagen. Dafür wurde das Modul von Huggingface verwendet, in diesem ist das Modell GPT-2 als Bewertung Instanz geschalten."
   ]
  },
  {
   "cell_type": "code",
   "execution_count": 201,
   "metadata": {
    "id": "tQb-m4lUfzZg"
   },
   "outputs": [
    {
     "name": "stdout",
     "output_type": "stream",
     "text": [
      "\u001b[1;33mQuestion:\u001b[0m \u001b[0;36mWhat is your name?\u001b[0m\n",
      "\u001b[0;32mAnswer:\u001b[0m me\n"
     ]
    },
    {
     "data": {
      "application/vnd.jupyter.widget-view+json": {
       "model_id": "72d1b2f3e94d43f6904d2dfabc8ecb02",
       "version_major": 2,
       "version_minor": 0
      },
      "text/plain": [
       "  0%|          | 0/1 [00:00<?, ?it/s]"
      ]
     },
     "metadata": {},
     "output_type": "display_data"
    },
    {
     "name": "stdout",
     "output_type": "stream",
     "text": [
      "\u001b[0;32mPerplexity score:\u001b[0m 6384.91259765625\n",
      "\n",
      "\u001b[1;33mQuestion:\u001b[0m \u001b[0;36mWhere do you live?\u001b[0m\n",
      "\u001b[0;32mAnswer:\u001b[0m herenear the supermarket increases\n"
     ]
    },
    {
     "data": {
      "application/vnd.jupyter.widget-view+json": {
       "model_id": "2085f7cea1ae401f82c75514b1c971bf",
       "version_major": 2,
       "version_minor": 0
      },
      "text/plain": [
       "  0%|          | 0/1 [00:00<?, ?it/s]"
      ]
     },
     "metadata": {},
     "output_type": "display_data"
    },
    {
     "name": "stdout",
     "output_type": "stream",
     "text": [
      "\u001b[0;32mPerplexity score:\u001b[0m 16264.3916015625\n",
      "\n",
      "\u001b[1;33mQuestion:\u001b[0m \u001b[0;36mWhat color do you like the most?\u001b[0m\n",
      "\u001b[0;32mAnswer:\u001b[0m it s very much\n"
     ]
    },
    {
     "data": {
      "application/vnd.jupyter.widget-view+json": {
       "model_id": "be7494d0d109479e86e2595a8c7d6bb2",
       "version_major": 2,
       "version_minor": 0
      },
      "text/plain": [
       "  0%|          | 0/1 [00:00<?, ?it/s]"
      ]
     },
     "metadata": {},
     "output_type": "display_data"
    },
    {
     "name": "stdout",
     "output_type": "stream",
     "text": [
      "\u001b[0;32mPerplexity score:\u001b[0m 574.9309692382812\n",
      "\n",
      "\u001b[1;33mQuestion:\u001b[0m \u001b[0;36mWhat do you do for a living?\u001b[0m\n",
      "\u001b[0;32mAnswer:\u001b[0m i m a good\n"
     ]
    },
    {
     "data": {
      "application/vnd.jupyter.widget-view+json": {
       "model_id": "3f173fa0e2b348999cfce71edbb92a8d",
       "version_major": 2,
       "version_minor": 0
      },
      "text/plain": [
       "  0%|          | 0/1 [00:00<?, ?it/s]"
      ]
     },
     "metadata": {},
     "output_type": "display_data"
    },
    {
     "name": "stdout",
     "output_type": "stream",
     "text": [
      "\u001b[0;32mPerplexity score:\u001b[0m 200.8462677001953\n",
      "\n",
      "\u001b[1;33mQuestion:\u001b[0m \u001b[0;36mWhat are your hobbies?\u001b[0m\n",
      "\u001b[0;32mAnswer:\u001b[0m suzhou my daughter i was here\n"
     ]
    },
    {
     "data": {
      "application/vnd.jupyter.widget-view+json": {
       "model_id": "edcfe41135ae45e08919ba734bdb88d6",
       "version_major": 2,
       "version_minor": 0
      },
      "text/plain": [
       "  0%|          | 0/1 [00:00<?, ?it/s]"
      ]
     },
     "metadata": {},
     "output_type": "display_data"
    },
    {
     "name": "stdout",
     "output_type": "stream",
     "text": [
      "\u001b[0;32mPerplexity score:\u001b[0m 1008.3782348632812\n",
      "\n",
      "\u001b[1;33mQuestion:\u001b[0m \u001b[0;36mDo you have any pets?\u001b[0m\n",
      "\u001b[0;32mAnswer:\u001b[0m yes\n"
     ]
    },
    {
     "data": {
      "application/vnd.jupyter.widget-view+json": {
       "model_id": "798814b83dbc48a0916c81fa3904e971",
       "version_major": 2,
       "version_minor": 0
      },
      "text/plain": [
       "  0%|          | 0/1 [00:00<?, ?it/s]"
      ]
     },
     "metadata": {},
     "output_type": "display_data"
    },
    {
     "name": "stdout",
     "output_type": "stream",
     "text": [
      "\u001b[0;32mPerplexity score:\u001b[0m 30530.626953125\n",
      "\n",
      "\u001b[1;33mQuestion:\u001b[0m \u001b[0;36mWhich book do you find most interesting?\u001b[0m\n",
      "\u001b[0;32mAnswer:\u001b[0m i like the food in the food\n"
     ]
    },
    {
     "data": {
      "application/vnd.jupyter.widget-view+json": {
       "model_id": "8c9c68f361904a7d880dfa81968877bf",
       "version_major": 2,
       "version_minor": 0
      },
      "text/plain": [
       "  0%|          | 0/1 [00:00<?, ?it/s]"
      ]
     },
     "metadata": {},
     "output_type": "display_data"
    },
    {
     "name": "stdout",
     "output_type": "stream",
     "text": [
      "\u001b[0;32mPerplexity score:\u001b[0m 82.51496124267578\n",
      "\n",
      "\u001b[1;33mQuestion:\u001b[0m \u001b[0;36mWhich movie do you like the best?\u001b[0m\n",
      "\u001b[0;32mAnswer:\u001b[0m i like the food in the food\n"
     ]
    },
    {
     "data": {
      "application/vnd.jupyter.widget-view+json": {
       "model_id": "703f6e4c5e5b4103b608c257e828133c",
       "version_major": 2,
       "version_minor": 0
      },
      "text/plain": [
       "  0%|          | 0/1 [00:00<?, ?it/s]"
      ]
     },
     "metadata": {},
     "output_type": "display_data"
    },
    {
     "name": "stdout",
     "output_type": "stream",
     "text": [
      "\u001b[0;32mPerplexity score:\u001b[0m 82.51496124267578\n",
      "\n",
      "\u001b[1;33mQuestion:\u001b[0m \u001b[0;36mWhat song do you love listening to?\u001b[0m\n",
      "\u001b[0;32mAnswer:\u001b[0m you like to love me\n"
     ]
    },
    {
     "data": {
      "application/vnd.jupyter.widget-view+json": {
       "model_id": "8f46c34ab018462783233c6a7d312958",
       "version_major": 2,
       "version_minor": 0
      },
      "text/plain": [
       "  0%|          | 0/1 [00:00<?, ?it/s]"
      ]
     },
     "metadata": {},
     "output_type": "display_data"
    },
    {
     "name": "stdout",
     "output_type": "stream",
     "text": [
      "\u001b[0;32mPerplexity score:\u001b[0m 184.6300811767578\n",
      "\n",
      "\u001b[1;33mQuestion:\u001b[0m \u001b[0;36mWhere were you born?\u001b[0m\n",
      "\u001b[0;32mAnswer:\u001b[0m i was in the bathroom\n"
     ]
    },
    {
     "data": {
      "application/vnd.jupyter.widget-view+json": {
       "model_id": "1b84ddd472ed43d2bb644325e2c5097b",
       "version_major": 2,
       "version_minor": 0
      },
      "text/plain": [
       "  0%|          | 0/1 [00:00<?, ?it/s]"
      ]
     },
     "metadata": {},
     "output_type": "display_data"
    },
    {
     "name": "stdout",
     "output_type": "stream",
     "text": [
      "\u001b[0;32mPerplexity score:\u001b[0m 56.81135940551758\n",
      "\n",
      "\u001b[1;33mQuestion:\u001b[0m \u001b[0;36mWhich sport do you prefer playing or watching?\u001b[0m\n",
      "\u001b[0;32mAnswer:\u001b[0m i like orange and a sprite\n"
     ]
    },
    {
     "data": {
      "application/vnd.jupyter.widget-view+json": {
       "model_id": "1badb833fc204464af4d300cf8c018b4",
       "version_major": 2,
       "version_minor": 0
      },
      "text/plain": [
       "  0%|          | 0/1 [00:00<?, ?it/s]"
      ]
     },
     "metadata": {},
     "output_type": "display_data"
    },
    {
     "name": "stdout",
     "output_type": "stream",
     "text": [
      "\u001b[0;32mPerplexity score:\u001b[0m 994.6595458984375\n",
      "\n",
      "\u001b[1;33mQuestion:\u001b[0m \u001b[0;36mWhat languages can you speak?\u001b[0m\n",
      "\u001b[0;32mAnswer:\u001b[0m i m a manager\n"
     ]
    },
    {
     "data": {
      "application/vnd.jupyter.widget-view+json": {
       "model_id": "0bb89c59f4234d0585df5ef6bae84eef",
       "version_major": 2,
       "version_minor": 0
      },
      "text/plain": [
       "  0%|          | 0/1 [00:00<?, ?it/s]"
      ]
     },
     "metadata": {},
     "output_type": "display_data"
    },
    {
     "name": "stdout",
     "output_type": "stream",
     "text": [
      "\u001b[0;32mPerplexity score:\u001b[0m 412.1962890625\n",
      "\n",
      "\u001b[1;33mQuestion:\u001b[0m \u001b[0;36mWhich season do you prefer?\u001b[0m\n",
      "\u001b[0;32mAnswer:\u001b[0m orange the deposit deposit\n"
     ]
    },
    {
     "data": {
      "application/vnd.jupyter.widget-view+json": {
       "model_id": "6336f401ffea4ff5a48ab9600de27aeb",
       "version_major": 2,
       "version_minor": 0
      },
      "text/plain": [
       "  0%|          | 0/1 [00:00<?, ?it/s]"
      ]
     },
     "metadata": {},
     "output_type": "display_data"
    },
    {
     "name": "stdout",
     "output_type": "stream",
     "text": [
      "\u001b[0;32mPerplexity score:\u001b[0m 8746.353515625\n",
      "\n",
      "\u001b[1;33mQuestion:\u001b[0m \u001b[0;36mWhich holiday do you look forward to?\u001b[0m\n",
      "\u001b[0;32mAnswer:\u001b[0m i like the food of my family\n"
     ]
    },
    {
     "data": {
      "application/vnd.jupyter.widget-view+json": {
       "model_id": "a14aa0ef67d54bbc977ec801d418638b",
       "version_major": 2,
       "version_minor": 0
      },
      "text/plain": [
       "  0%|          | 0/1 [00:00<?, ?it/s]"
      ]
     },
     "metadata": {},
     "output_type": "display_data"
    },
    {
     "name": "stdout",
     "output_type": "stream",
     "text": [
      "\u001b[0;32mPerplexity score:\u001b[0m 104.41029357910156\n",
      "\n",
      "\u001b[1;33mQuestion:\u001b[0m \u001b[0;36mWhat do you like to drink?\u001b[0m\n",
      "\u001b[0;32mAnswer:\u001b[0m i want to get some money\n"
     ]
    },
    {
     "data": {
      "application/vnd.jupyter.widget-view+json": {
       "model_id": "1da0b991e4274c15a87f3249d75f6110",
       "version_major": 2,
       "version_minor": 0
      },
      "text/plain": [
       "  0%|          | 0/1 [00:00<?, ?it/s]"
      ]
     },
     "metadata": {},
     "output_type": "display_data"
    },
    {
     "name": "stdout",
     "output_type": "stream",
     "text": [
      "\u001b[0;32mPerplexity score:\u001b[0m 46.745731353759766\n",
      "\n",
      "\u001b[1;33mQuestion:\u001b[0m \u001b[0;36mWhich TV show do you watch regularly?\u001b[0m\n",
      "\u001b[0;32mAnswer:\u001b[0m i have the idea\n"
     ]
    },
    {
     "data": {
      "application/vnd.jupyter.widget-view+json": {
       "model_id": "dac810b0240049ac8b083e25426b0aca",
       "version_major": 2,
       "version_minor": 0
      },
      "text/plain": [
       "  0%|          | 0/1 [00:00<?, ?it/s]"
      ]
     },
     "metadata": {},
     "output_type": "display_data"
    },
    {
     "name": "stdout",
     "output_type": "stream",
     "text": [
      "\u001b[0;32mPerplexity score:\u001b[0m 131.03631591796875\n",
      "\n",
      "\u001b[1;33mQuestion:\u001b[0m \u001b[0;36mWhat animal do you find fascinating?\u001b[0m\n",
      "\u001b[0;32mAnswer:\u001b[0m he s a very emotional girl\n"
     ]
    },
    {
     "data": {
      "application/vnd.jupyter.widget-view+json": {
       "model_id": "0ae06d040f3e400fba44317fcb844cd8",
       "version_major": 2,
       "version_minor": 0
      },
      "text/plain": [
       "  0%|          | 0/1 [00:00<?, ?it/s]"
      ]
     },
     "metadata": {},
     "output_type": "display_data"
    },
    {
     "name": "stdout",
     "output_type": "stream",
     "text": [
      "\u001b[0;32mPerplexity score:\u001b[0m 509.94091796875\n",
      "\n",
      "\u001b[1;33mQuestion:\u001b[0m \u001b[0;36mWhat was your best subject in school?\u001b[0m\n",
      "\u001b[0;32mAnswer:\u001b[0m i was in the room yesterday\n"
     ]
    },
    {
     "data": {
      "application/vnd.jupyter.widget-view+json": {
       "model_id": "4066c59a7a5041d1a0bad0b24331809e",
       "version_major": 2,
       "version_minor": 0
      },
      "text/plain": [
       "  0%|          | 0/1 [00:00<?, ?it/s]"
      ]
     },
     "metadata": {},
     "output_type": "display_data"
    },
    {
     "name": "stdout",
     "output_type": "stream",
     "text": [
      "\u001b[0;32mPerplexity score:\u001b[0m 85.7713394165039\n",
      "\n",
      "\u001b[1;33mQuestion:\u001b[0m \u001b[0;36mWhat game do you like to play?\u001b[0m\n",
      "\u001b[0;32mAnswer:\u001b[0m i like to look at a chicken\n"
     ]
    },
    {
     "data": {
      "application/vnd.jupyter.widget-view+json": {
       "model_id": "8285c5ec809e4388a3a7beb3ddb5a2c9",
       "version_major": 2,
       "version_minor": 0
      },
      "text/plain": [
       "  0%|          | 0/1 [00:00<?, ?it/s]"
      ]
     },
     "metadata": {},
     "output_type": "display_data"
    },
    {
     "name": "stdout",
     "output_type": "stream",
     "text": [
      "\u001b[0;32mPerplexity score:\u001b[0m 87.26315307617188\n",
      "\n",
      "\u001b[1;33mQuestion:\u001b[0m \u001b[0;36mWhat is your dream job?\u001b[0m\n",
      "\u001b[0;32mAnswer:\u001b[0m i have a headache\n"
     ]
    },
    {
     "data": {
      "application/vnd.jupyter.widget-view+json": {
       "model_id": "fcc4dbb9873244698e4b0f03ccf20739",
       "version_major": 2,
       "version_minor": 0
      },
      "text/plain": [
       "  0%|          | 0/1 [00:00<?, ?it/s]"
      ]
     },
     "metadata": {},
     "output_type": "display_data"
    },
    {
     "name": "stdout",
     "output_type": "stream",
     "text": [
      "\u001b[0;32mPerplexity score:\u001b[0m 166.1956024169922\n",
      "\n",
      "\u001b[1;33mQuestion:\u001b[0m \u001b[0;36mAre we friends?\u001b[0m\n",
      "\u001b[0;32mAnswer:\u001b[0m are you going to eat\n"
     ]
    },
    {
     "data": {
      "application/vnd.jupyter.widget-view+json": {
       "model_id": "7e4b4cddf3b84b97981cfdd7f82fbd65",
       "version_major": 2,
       "version_minor": 0
      },
      "text/plain": [
       "  0%|          | 0/1 [00:00<?, ?it/s]"
      ]
     },
     "metadata": {},
     "output_type": "display_data"
    },
    {
     "name": "stdout",
     "output_type": "stream",
     "text": [
      "\u001b[0;32mPerplexity score:\u001b[0m 85.14027404785156\n",
      "\n",
      "\u001b[1;33mQuestion:\u001b[0m \u001b[0;36mHow are you?\u001b[0m\n",
      "\u001b[0;32mAnswer:\u001b[0m fine thank you\n"
     ]
    },
    {
     "data": {
      "application/vnd.jupyter.widget-view+json": {
       "model_id": "e68fdac601ab4167aefa41dd215a9cbe",
       "version_major": 2,
       "version_minor": 0
      },
      "text/plain": [
       "  0%|          | 0/1 [00:00<?, ?it/s]"
      ]
     },
     "metadata": {},
     "output_type": "display_data"
    },
    {
     "name": "stdout",
     "output_type": "stream",
     "text": [
      "\u001b[0;32mPerplexity score:\u001b[0m 2847.26708984375\n",
      "\n",
      "\u001b[1;33mOverall perplexity score:\u001b[0m 3163.0699116099963\n"
     ]
    }
   ],
   "source": [
    "def dataset_input(encoder: EncoderLSTM, decoder: DecoderLSTMAttention, vocab: Vocab):\n",
    "    # ANSI escape codes for colors and bold text\n",
    "    yellow_bold = \"\\033[1;33m\"\n",
    "    green = \"\\033[0;32m\"\n",
    "    red = \"\\033[0;31m\"\n",
    "    cyan = \"\\033[0;36m\"\n",
    "    reset = \"\\033[0m\"\n",
    "\n",
    "    perplexity = load(\"perplexity\", module_type=\"metric\")\n",
    "\n",
    "    perplexities = []\n",
    "\n",
    "    # Evaluating each question\n",
    "    for question in questions:\n",
    "        try:\n",
    "            # Normalize question\n",
    "            normalized_question = preprocess_string(question)\n",
    "            # Evaluate question\n",
    "            output_words, _ = inference(encoder, decoder, normalized_question, vocab)\n",
    "            # Format and print response sentence\n",
    "            output_words = [x for x in output_words if not (x == 'EOS' or x == 'PAD')]\n",
    "            output_sentence = ' '.join(output_words)\n",
    "            print(f\"{yellow_bold}Question:{reset} {cyan}{question}{reset}\")\n",
    "            print(f\"{green}Answer:{reset} {output_sentence}\")\n",
    "            results = perplexity.compute(model_id='gpt2',\n",
    "                                         add_start_token=True,\n",
    "                                         predictions=[output_sentence])\n",
    "            print(f\"{green}Perplexity score:{reset} {results['mean_perplexity']}\")\n",
    "            perplexities.append(results['mean_perplexity'])\n",
    "            print()\n",
    "\n",
    "        except KeyError:\n",
    "            print(\n",
    "                f\"{red}Some of the input words in the question are unknown, please formulate the sentence differently.{reset}\")\n",
    "\n",
    "    print(f\"{yellow_bold}Overall perplexity score:{reset} {np.mean(perplexities)}\")\n",
    "\n",
    "dataset_input(encoder=encoder, decoder=decoder, vocab=vocab)"
   ]
  },
  {
   "attachments": {},
   "cell_type": "markdown",
   "metadata": {},
   "source": [
    "Anhand der Evaluierung fällt folgendes auf:\n",
    "\n",
    "Der Chatbot kann einfache Fragen gut und direkt beantworten. Beispielsweise gibt er auf \"What is your name?\" die Antwort \"me\" und auf \"Do you have any pets?\" antwortet er mit \"yes\". Dies zeigt, dass der Bot grundlegende Fragen korrekt erkennt und prägnante Antworten liefern kann. Außerdem ist die Geschwindigkeit, mit der der Chatbot die Antworten generiert (zwischen 8 und 66.67 it/s), beeindruckend und zeigt die Effizienz des Bots in der Antwortgenerierung. Bei der Frage \"What do you do for a living?\" antwortet der Bot mit \"i m a good\", was zumindest teilweise den Kontext der Frage widerspiegelt. Auch bei \"How are you?\" antwortet der Bot passend mit \"fine thank you\". Einige der Antworten, wie zum Beispiel \"What color do you like the most?\" mit einem Perplexity Score von 574.93 und \"Which book do you find most interesting?\" mit 82.51, zeigen, dass der Chatbot in einigen Fällen weniger Unsicherheit in seinen Antworten hat und potenziell bessere Vorhersagen trifft.\n",
    "\n",
    "Verbesserungspotential besteht insbesondere darin das kontextuelle Verständnis des Chatbots weiter zu verbessern, um relevantere und genauere Antworten auf komplexere Fragen zu geben. Insgesamt sollte der Perplexity Score weiter reduziert werden um die Qualität und Konsistenz der Antworten zu erhöhen. \n"
   ]
  },
  {
   "cell_type": "markdown",
   "metadata": {
    "id": "0L686aEg4yq9"
   },
   "source": [
    "### Evaluierung mit Attention Matrix"
   ]
  },
  {
   "cell_type": "markdown",
   "metadata": {
    "id": "dnEk9ZB49bNW"
   },
   "source": [
    "In Sequenzmodellen wie RNNs oder LSTMs hat jeder Zustand (z.B. ein Wort in einem Satz) nur begrenzte Sicht auf den Rest der Sequenz. Eine Attention Matrix erlaubt es dem Modell, eine globale Sicht auf die gesamte Sequenz zu haben und dynamisch zu entscheiden, welche Teile der Eingabe zu einem bestimmten Zeitpunkt wichtig sind. Hierbei wird angezeigt wie viel Aufmerksamkeit welchem Wort des Satzes beigemessen wird. Dabei werden nun zuvor die PAD und EOS Tokens des Antwort Satzes entfernt und mit Hilfe der Attention Weights dargestellt."
   ]
  },
  {
   "cell_type": "code",
   "execution_count": 202,
   "metadata": {},
   "outputs": [],
   "source": [
    "def visualize_attention_weights(input_sentence, words, attention_weights):\n",
    "\n",
    "    # Move attention weights to CPU and convert to numpy\n",
    "    attention_weights_cpu = attention_weights.cpu().detach().numpy()\n",
    "\n",
    "    # Filter out 'PAD' and 'EOS' tokens from the response and get their indices\n",
    "    filtered_response_tokens = []\n",
    "    filtered_indices = []\n",
    "\n",
    "    for idx, token in enumerate(words):\n",
    "        if token not in ['PAD', 'EOS']:\n",
    "            filtered_response_tokens.append(token)\n",
    "            filtered_indices.append(idx)\n",
    "\n",
    "    # Filter the attention weights to exclude 'PAD' and 'EOS' tokens in both rows and columns\n",
    "    filtered_attention_weights = attention_weights_cpu[0, filtered_indices, :]\n",
    "    filtered_attention_weights = filtered_attention_weights[:, filtered_indices]\n",
    "\n",
    "    plot_attention_weights(input_sentence, filtered_response_tokens, filtered_attention_weights)\n",
    "\n",
    "\n",
    "def plot_attention_weights(input_sentence, response_tokens, attention_weights):\n",
    "    fig, ax = plt.subplots()\n",
    "    cax = ax.matshow(attention_weights, cmap='viridis')\n",
    "\n",
    "    ax.set_xticklabels([''] + input_sentence.split(), rotation=90)\n",
    "    ax.set_yticklabels([''] + response_tokens)\n",
    "\n",
    "    plt.title('Bahdanau Attention Weights')\n",
    "    plt.colorbar(cax)\n",
    "    plt.show()"
   ]
  },
  {
   "cell_type": "code",
   "execution_count": 203,
   "metadata": {
    "id": "FiRj57pZ4y4B"
   },
   "outputs": [
    {
     "name": "stderr",
     "output_type": "stream",
     "text": [
      "C:\\Users\\Marco\\AppData\\Local\\Temp\\ipykernel_13056\\1760487052.py:26: UserWarning: set_ticklabels() should only be used with a fixed number of ticks, i.e. after set_ticks() or using a FixedLocator.\n",
      "  ax.set_xticklabels([''] + input_sentence.split(), rotation=90)\n",
      "C:\\Users\\Marco\\AppData\\Local\\Temp\\ipykernel_13056\\1760487052.py:27: UserWarning: set_ticklabels() should only be used with a fixed number of ticks, i.e. after set_ticks() or using a FixedLocator.\n",
      "  ax.set_yticklabels([''] + response_tokens)\n"
     ]
    },
    {
     "data": {
      "image/png": "[encoded data removed]",
      "text/plain": [
       "<Figure size 640x480 with 2 Axes>"
      ]
     },
     "metadata": {},
     "output_type": "display_data"
    }
   ],
   "source": [
    "input_sentence = \"how are you\"\n",
    "\n",
    "words, attention_weights = inference(encoder, decoder, input_sentence, vocab)\n",
    "\n",
    "visualize_attention_weights(input_sentence, words, attention_weights)"
   ]
  },
  {
   "attachments": {},
   "cell_type": "markdown",
   "metadata": {},
   "source": [
    "Das Modell zeigt eine klare Attention auf das Wort \"you\" sowohl in der Eingabe als auch in der Ausgabe. Dies ist sinnvoll, da \"you\" in beiden Sätzen vorkommt und das Modell somit dieses Wort als besonders relevant erkennt. Die anderen Wörter erhalten eine eher gleichmäßige Aufmerksamkeit, was darauf hindeutet, dass das Modell sie als weniger entscheidend für die Erzeugung der Ausgabewörter betrachtet."
   ]
  },
  {
   "cell_type": "markdown",
   "metadata": {
    "id": "o-5Ef5crf3c9"
   },
   "source": [
    "## Nutzer Eingabe"
   ]
  },
  {
   "cell_type": "markdown",
   "metadata": {
    "id": "Qq7KumNh8RwS"
   },
   "source": [
    "Mit der folgenden Funktion wird eine Eingabe über die Konsole geschaffen, durch die der Nutzer interaktiv mit dem Modell Konversationen führen kann. Dabei wird eine format_sentence-Funktion eingeführt, die den vom Modell zurückgegebenen Satz in ein sauberes Format bringt."
   ]
  },
  {
   "cell_type": "code",
   "execution_count": 204,
   "metadata": {
    "id": "WgyAnE608Vif"
   },
   "outputs": [],
   "source": [
    "def format_sentence(sentence):\n",
    "    if not sentence:\n",
    "        return sentence\n",
    "    sentence = sentence.strip()\n",
    "\n",
    "    # Dictionary of contractions to replace\n",
    "    contractions = {\n",
    "        r'\\b s \\b': \" is \",\n",
    "        r'\\b re \\b': \" are \",\n",
    "    }\n",
    "\n",
    "    # Perform the substitutions\n",
    "    for pattern, replacement in contractions.items():\n",
    "        sentence = re.sub(pattern, replacement, sentence)\n",
    "\n",
    "    if not sentence.endswith('.'):\n",
    "        sentence += '.'\n",
    "\n",
    "    return sentence[0].upper() + sentence[1:]"
   ]
  },
  {
   "cell_type": "markdown",
   "metadata": {
    "id": "ZK5LUUQ4_8LX"
   },
   "source": [
    "Hier wird gezeigt, wie der Satz umgewandelt wird: Der Satzbeginn wird groß geschrieben, Abkürzungen von 'is' und 'are' werden ausgeschrieben und am Ende des Satzes wird ein Punkt eingefügt."
   ]
  },
  {
   "cell_type": "code",
   "execution_count": 205,
   "metadata": {
    "id": "O5JXnx7E__lT"
   },
   "outputs": [
    {
     "name": "stdout",
     "output_type": "stream",
     "text": [
      "hello world how s it going\n",
      "Hello world how is it going.\n"
     ]
    }
   ],
   "source": [
    "sentence = 'hello world how s it going'\n",
    "formated_sentence = format_sentence(sentence)\n",
    "\n",
    "print(sentence)\n",
    "print(formated_sentence)"
   ]
  },
  {
   "attachments": {},
   "cell_type": "markdown",
   "metadata": {
    "id": "Txs16sDOCBFp"
   },
   "source": [
    "Das Programm befindet sich in einer Schleife, in der es kontinuierlich Benutzereingaben abfragt. Der Benutzer wird aufgefordert, einen Satz einzugeben. Wenn der Benutzer 'q' oder 'quit' eingibt, wird das Programm beendet. Der eingegebene Satz wird durch *preprocess_string* (input_sentence) normalisiert. Der normalisierte Satz wird durch das Modell (Encoder und Decoder) verarbeitet, um eine Antwort zu generieren. Die generierten Wörter werden zu einem Satz zusammengefügt, wobei das End-of-Sentence-Token (EOS) und die Paddings (PAD) entfernt wird. Die Antwort wird formatiert und ausgegeben. Falls ein unbekanntes Wort in der Eingabe gefunden wird, gibt das Programm eine Fehlermeldung aus."
   ]
  },
  {
   "cell_type": "code",
   "execution_count": 206,
   "metadata": {
    "id": "bkHpr6mff-UY"
   },
   "outputs": [
    {
     "data": {
      "application/vnd.jupyter.widget-view+json": {
       "model_id": "49dc24e8d9904198ab9b3dd5daa105b7",
       "version_major": 2,
       "version_minor": 0
      },
      "text/plain": [
       "HTML(value='<b>Hello! How can I assist you today?</b>')"
      ]
     },
     "metadata": {},
     "output_type": "display_data"
    },
    {
     "data": {
      "application/vnd.jupyter.widget-view+json": {
       "model_id": "4dc9e60d222d468b9e3343b61c363ba9",
       "version_major": 2,
       "version_minor": 0
      },
      "text/plain": [
       "Text(value='', placeholder='Type your question here...')"
      ]
     },
     "metadata": {},
     "output_type": "display_data"
    },
    {
     "data": {
      "application/vnd.jupyter.widget-view+json": {
       "model_id": "c3cbd208ba224a4fb3cb9982d2289acc",
       "version_major": 2,
       "version_minor": 0
      },
      "text/plain": [
       "Output()"
      ]
     },
     "metadata": {},
     "output_type": "display_data"
    }
   ],
   "source": [
    "import ipywidgets as widgets\n",
    "from IPython.display import display, clear_output\n",
    "\n",
    "# Create input and output widgets\n",
    "input_box = widgets.Text(placeholder='Type your question here...')\n",
    "output_box = widgets.Output()\n",
    "\n",
    "def on_submit(change, encoder, decoder, vocab):\n",
    "    with output_box:\n",
    "        clear_output()\n",
    "        input_sentence = change['new']\n",
    "        if input_sentence.lower() in ['q', 'quit']:\n",
    "            display(widgets.HTML(\"<b style='color: yellow;'>Goodbye! Have a great day!</b>\"))\n",
    "            input_box.close()\n",
    "            return\n",
    "        try:\n",
    "            # Normalize sentence\n",
    "            input_sentence = preprocess_string(input_sentence)\n",
    "            # Evaluate sentence\n",
    "            output_words, _ = inference(encoder, decoder, input_sentence, vocab)\n",
    "            # Format and print response sentence\n",
    "            output_words = [x for x in output_words if not (x == 'EOS' or x == 'PAD')]\n",
    "            formatted_response = format_sentence(' '.join(output_words))\n",
    "            display(widgets.HTML(f\"<span style='color: green;'>Answer:</span> {formatted_response}\"))\n",
    "        except KeyError:\n",
    "            display(widgets.HTML(\"<span style='color: red;'>Some of the input you used is unknown, please formulate the sentence differently.</span>\"))\n",
    "\n",
    "def user_input(encoder, decoder, vocab):\n",
    "    # Greeting message\n",
    "    display(widgets.HTML(\"<b>Hello! How can I assist you today?</b>\"))\n",
    "\n",
    "    # Link the input box to the callback function\n",
    "    input_box.observe(lambda change: on_submit(change, encoder, decoder, vocab), names='value')\n",
    "\n",
    "    # Display the input and output widgets\n",
    "    display(input_box)\n",
    "    display(output_box)\n",
    "    \n",
    "user_input(encoder=encoder, decoder=decoder, vocab=vocab)"
   ]
  },
  {
   "cell_type": "markdown",
   "metadata": {
    "id": "3GY1k9fYCpPA"
   },
   "source": [
    "## Fazit\n",
    "\n",
    "Insgesamt zeigt der Chatbot ein teilweises Verständnis der Eingaben und antwortet gelegentlich korrekt. Allerdings ist dies zu selten der Fall. Ein Grund hierfür könnte sein, dass der Chatbot mit zu wenig spezifischen Daten trainiert wurde. Um das Problem der allgemeinen Konversation zu lösen, wären wohl mehr und vielfältigere Daten erforderlich, um bessere Ergebnisse zu erzielen. \n",
    "\n",
    "Abgesehen davon wird deutlich, dass Seq2Seq-Modell mit Bahdanau-Attention von Natur aus begrenzt sind, insbesondere im Vergleich zu fortschrittlicheren Modellen wie ChatGPT. Moderne Modelle wie ChatGPT haben Zugang zu extrem großen Datensätzen und nutzen fortschrittliche Architekturen wie Transformer mit Multi-Head Attention, die eine deutlich bessere Leistung bei der Kontextverarbeitung und Generierung natürlicher Sprache ermöglichen. Diese Unterschiede in der Datenmenge und der Modellarchitektur tragen wesentlich dazu bei, dass Modelle wie ChatGPT eine überlegene Performance zeigen. \n",
    "\n",
    "Vermutlich könnte die Nutzung vortrainierter Sprachmodelle wie GPT oder BERT als Ausgangspunkt und anschließendes Fein-Tuning auf einem spezifischen Datensatz die Leistungsfähigkeit des Chatbots erheblich verbessern. Diese Modelle verfügen über viel größere und diversere Trainingsdatensätze, was ihnen ein tieferes Sprachverständnis und eine bessere Kontextverarbeitung ermöglicht.\n",
    "\n",
    "Nichtsdestotrotz war dieses Projekt eine gute Möglichkeit, zu sehen, wie anspruchsvoll die Entwicklung eines leistungsfähigen Chatbots wirklich ist. Es zeigte die Komplexität, die mit der Erstellung eines Systems verbunden ist, das nicht nur grammatikalisch korrekt, sondern auch semantisch präzise und kontextuell relevante Antworten liefern kann. Zudem bot es wertvolle Einblicke in die Herausforderungen und Limitierungen, die bei der Implementierung und dem Training von Seq2Seq-Modellen mit Bahdanau-Attention auftreten."
   ]
  }
 ],
 "metadata": {
  "accelerator": "TPU",
  "colab": {
   "gpuType": "V28",
   "provenance": []
  },
  "kernelspec": {
   "display_name": "Python 3 (ipykernel)",
   "language": "python",
   "name": "python3"
  },
  "language_info": {
   "codemirror_mode": {
    "name": "ipython",
    "version": 3
   },
   "file_extension": ".py",
   "mimetype": "text/x-python",
   "name": "python",
   "nbconvert_exporter": "python",
   "pygments_lexer": "ipython3",
   "version": "3.10.0"
  },
  "widgets": {
   "application/vnd.jupyter.widget-state+json": {
    "78b19befa16b4ca0a2d0273d2ea85b30": {
     "model_module": "@jupyter-widgets/controls",
     "model_module_version": "1.5.0",
     "model_name": "DescriptionStyleModel",
     "state": {
      "_model_module": "@jupyter-widgets/controls",
      "_model_module_version": "1.5.0",
      "_model_name": "DescriptionStyleModel",
      "_view_count": null,
      "_view_module": "@jupyter-widgets/base",
      "_view_module_version": "1.2.0",
      "_view_name": "StyleView",
      "description_width": ""
     }
    },
    "86b1de83b9cb4f8f8f725406f3f113eb": {
     "model_module": "@jupyter-widgets/base",
     "model_module_version": "1.2.0",
     "model_name": "LayoutModel",
     "state": {
      "_model_module": "@jupyter-widgets/base",
      "_model_module_version": "1.2.0",
      "_model_name": "LayoutModel",
      "_view_count": null,
      "_view_module": "@jupyter-widgets/base",
      "_view_module_version": "1.2.0",
      "_view_name": "LayoutView",
      "align_content": null,
      "align_items": null,
      "align_self": null,
      "border": null,
      "bottom": null,
      "display": null,
      "flex": null,
      "flex_flow": null,
      "grid_area": null,
      "grid_auto_columns": null,
      "grid_auto_flow": null,
      "grid_auto_rows": null,
      "grid_column": null,
      "grid_gap": null,
      "grid_row": null,
      "grid_template_areas": null,
      "grid_template_columns": null,
      "grid_template_rows": null,
      "height": null,
      "justify_content": null,
      "justify_items": null,
      "left": null,
      "margin": null,
      "max_height": null,
      "max_width": null,
      "min_height": null,
      "min_width": null,
      "object_fit": null,
      "object_position": null,
      "order": null,
      "overflow": null,
      "overflow_x": null,
      "overflow_y": null,
      "padding": null,
      "right": null,
      "top": null,
      "visibility": null,
      "width": null
     }
    },
    "9824e507aa064dc4b5e332d26c8a51e0": {
     "model_module": "@jupyter-widgets/controls",
     "model_module_version": "1.5.0",
     "model_name": "DescriptionStyleModel",
     "state": {
      "_model_module": "@jupyter-widgets/controls",
      "_model_module_version": "1.5.0",
      "_model_name": "DescriptionStyleModel",
      "_view_count": null,
      "_view_module": "@jupyter-widgets/base",
      "_view_module_version": "1.2.0",
      "_view_name": "StyleView",
      "description_width": ""
     }
    },
    "a02614711214473db473f4f7fe93ed54": {
     "model_module": "@jupyter-widgets/base",
     "model_module_version": "1.2.0",
     "model_name": "LayoutModel",
     "state": {
      "_model_module": "@jupyter-widgets/base",
      "_model_module_version": "1.2.0",
      "_model_name": "LayoutModel",
      "_view_count": null,
      "_view_module": "@jupyter-widgets/base",
      "_view_module_version": "1.2.0",
      "_view_name": "LayoutView",
      "align_content": null,
      "align_items": null,
      "align_self": null,
      "border": null,
      "bottom": null,
      "display": null,
      "flex": null,
      "flex_flow": null,
      "grid_area": null,
      "grid_auto_columns": null,
      "grid_auto_flow": null,
      "grid_auto_rows": null,
      "grid_column": null,
      "grid_gap": null,
      "grid_row": null,
      "grid_template_areas": null,
      "grid_template_columns": null,
      "grid_template_rows": null,
      "height": null,
      "justify_content": null,
      "justify_items": null,
      "left": null,
      "margin": null,
      "max_height": null,
      "max_width": null,
      "min_height": null,
      "min_width": null,
      "object_fit": null,
      "object_position": null,
      "order": null,
      "overflow": null,
      "overflow_x": null,
      "overflow_y": null,
      "padding": null,
      "right": null,
      "top": null,
      "visibility": null,
      "width": null
     }
    },
    "d55ee1ef1eb54d1c9e907e58ba74a015": {
     "model_module": "@jupyter-widgets/controls",
     "model_module_version": "1.5.0",
     "model_name": "LabelModel",
     "state": {
      "_dom_classes": [],
      "_model_module": "@jupyter-widgets/controls",
      "_model_module_version": "1.5.0",
      "_model_name": "LabelModel",
      "_view_count": null,
      "_view_module": "@jupyter-widgets/controls",
      "_view_module_version": "1.5.0",
      "_view_name": "LabelView",
      "description": "",
      "description_tooltip": null,
      "layout": "IPY_MODEL_a02614711214473db473f4f7fe93ed54",
      "placeholder": "​",
      "style": "IPY_MODEL_78b19befa16b4ca0a2d0273d2ea85b30",
      "value": "Selected Device: cpu"
     }
    },
    "dd3a49e9d0704943837f2866a69b347e": {
     "model_module": "@jupyter-widgets/controls",
     "model_module_version": "1.5.0",
     "model_name": "DescriptionStyleModel",
     "state": {
      "_model_module": "@jupyter-widgets/controls",
      "_model_module_version": "1.5.0",
      "_model_name": "DescriptionStyleModel",
      "_view_count": null,
      "_view_module": "@jupyter-widgets/base",
      "_view_module_version": "1.2.0",
      "_view_name": "StyleView",
      "description_width": ""
     }
    },
    "e171bf8f64d44729919751a30e166b7b": {
     "model_module": "@jupyter-widgets/controls",
     "model_module_version": "1.5.0",
     "model_name": "HTMLModel",
     "state": {
      "_dom_classes": [],
      "_model_module": "@jupyter-widgets/controls",
      "_model_module_version": "1.5.0",
      "_model_name": "HTMLModel",
      "_view_count": null,
      "_view_module": "@jupyter-widgets/controls",
      "_view_module_version": "1.5.0",
      "_view_name": "HTMLView",
      "description": "",
      "description_tooltip": null,
      "layout": "IPY_MODEL_86b1de83b9cb4f8f8f725406f3f113eb",
      "placeholder": "​",
      "style": "IPY_MODEL_dd3a49e9d0704943837f2866a69b347e",
      "value": "\n    <style>\n        .widget-toggle-button {\n            background-color: blue !important;\n            color: white !important;\n            font-weight: bold !important;\n            font-size: 16px !important;\n        }\n    </style>\n"
     }
    },
    "e7dfa3a7915e44668820ac99e96f912e": {
     "model_module": "@jupyter-widgets/base",
     "model_module_version": "1.2.0",
     "model_name": "LayoutModel",
     "state": {
      "_model_module": "@jupyter-widgets/base",
      "_model_module_version": "1.2.0",
      "_model_name": "LayoutModel",
      "_view_count": null,
      "_view_module": "@jupyter-widgets/base",
      "_view_module_version": "1.2.0",
      "_view_name": "LayoutView",
      "align_content": null,
      "align_items": null,
      "align_self": null,
      "border": null,
      "bottom": null,
      "display": null,
      "flex": null,
      "flex_flow": null,
      "grid_area": null,
      "grid_auto_columns": null,
      "grid_auto_flow": null,
      "grid_auto_rows": null,
      "grid_column": null,
      "grid_gap": null,
      "grid_row": null,
      "grid_template_areas": null,
      "grid_template_columns": null,
      "grid_template_rows": null,
      "height": "40px",
      "justify_content": null,
      "justify_items": null,
      "left": null,
      "margin": null,
      "max_height": null,
      "max_width": null,
      "min_height": null,
      "min_width": null,
      "object_fit": null,
      "object_position": null,
      "order": null,
      "overflow": null,
      "overflow_x": null,
      "overflow_y": null,
      "padding": null,
      "right": null,
      "top": null,
      "visibility": null,
      "width": "150px"
     }
    },
    "fee4bd37195f456a8b4d4c2564cdbce8": {
     "model_module": "@jupyter-widgets/controls",
     "model_module_version": "1.5.0",
     "model_name": "ToggleButtonModel",
     "state": {
      "_dom_classes": [],
      "_model_module": "@jupyter-widgets/controls",
      "_model_module_version": "1.5.0",
      "_model_name": "ToggleButtonModel",
      "_view_count": null,
      "_view_module": "@jupyter-widgets/controls",
      "_view_module_version": "1.5.0",
      "_view_name": "ToggleButtonView",
      "button_style": "",
      "description": "Use CUDA",
      "description_tooltip": null,
      "disabled": true,
      "icon": "",
      "layout": "IPY_MODEL_e7dfa3a7915e44668820ac99e96f912e",
      "style": "IPY_MODEL_9824e507aa064dc4b5e332d26c8a51e0",
      "tooltip": "Toggle between CPU and CUDA",
      "value": true
     }
    }
   }
  }
 },
 "nbformat": 4,
 "nbformat_minor": 4
}
